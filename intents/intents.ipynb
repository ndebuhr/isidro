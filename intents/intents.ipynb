{
 "cells": [
  {
   "cell_type": "markdown",
   "metadata": {
    "id": "IZ6SNYq_tVVC"
   },
   "source": [
    "# Isidro Intent Classification (BERT-Based Transfer Learning)\n",
    "\n",
    "This notebook fine-tunes BERT to perform intent classification for Isidro, and compares that model performance to AutoML and BQML models.\n",
    "\n",
    "Adapted from Prof. Dr. Johannes Maucher's [Intent Classification with BERT](https://hannibunny.github.io/mlbook/transformer/intent_classification_with_bert.html)"
   ]
  },
  {
   "cell_type": "markdown",
   "metadata": {
    "id": "2PHBpLPuQdmK"
   },
   "source": [
    "## About BERT\n",
    "\n",
    "[BERT](https://arxiv.org/abs/1810.04805) and other Transformer encoder architectures have been shown to be successful on a variety of tasks in NLP (natural language processing). They compute vector-space representations of natural language that are suitable for use in deep learning models. The BERT family of models uses the Transformer encoder architecture to process each token of input text in the full context of all tokens before and after, hence the name: Bidirectional Encoder Representations from Transformers. \n",
    "\n",
    "BERT models are usually pre-trained on a large corpus of text, then fine-tuned for specific tasks.\n"
   ]
  },
  {
   "cell_type": "markdown",
   "metadata": {
    "id": "SCjmX4zTCkRK"
   },
   "source": [
    "## Setup"
   ]
  },
  {
   "cell_type": "markdown",
   "metadata": {},
   "source": [
    "#### __Configuration__"
   ]
  },
  {
   "cell_type": "markdown",
   "metadata": {},
   "source": [
    "The notebook depends on pre-configured authentication to Google Cloud Platform.  For example, you could use a Vertex AI Workbench notebook, with a sufficiently-credentialed service account.  Otherwise, Google Cloud authentication needs to be added."
   ]
  },
  {
   "cell_type": "code",
   "execution_count": 1,
   "metadata": {},
   "outputs": [],
   "source": [
    "# CHANGE THESE\n",
    "\n",
    "# The project should already exist and have Vertex/GCS/BigQuery APIs enabled\n",
    "# A \"playground\" project is recommended for isolation and easy teardown\n",
    "GCP_PROJECT = \"example\"\n",
    "\n",
    "# Name only - bucket will be created in the notebook\n",
    "GCP_BUCKET = \"isidro_intent_classification\""
   ]
  },
  {
   "cell_type": "code",
   "execution_count": 2,
   "metadata": {},
   "outputs": [],
   "source": [
    "# OPTIONALLY, CHANGE THESE\n",
    "DATA_FILE = \"quality.csv\"\n",
    "GCP_REGION = \"us-central1\"\n",
    "VERTEX_MODEL_NAME_PREFIX = \"isidro_intents\"\n",
    "VERTEX_MODEL_ROUND = \"r1\"  # suffix for differentiating separate models (e.g., when running this notebook multiple times)\n",
    "VERTEX_MODEL_DESCRIPTION = \"Isidro intent classification model\"\n",
    "EXPERIMENT_NAME = \"isidro-intents-compare-custom-automl-bqml\"\n",
    "BQ_DATASET = \"isidro_intents\"  # name only - dataset will be created in the notebook"
   ]
  },
  {
   "cell_type": "code",
   "execution_count": 3,
   "metadata": {},
   "outputs": [],
   "source": [
    "# TUNE THESE ON LATER ITERATIONS\n",
    "EPOCHS = 8  # custom tensorflow model epochs\n",
    "LEARNING_RATE = 1e-5  # custom tensorflow model learning rate (Adam optimizer)\n",
    "BATCH_SIZE = 32  # custom tensorflow model batch size\n",
    "BERT_MODEL_NAME = 'small_bert/bert_en_uncased_L-8_H-512_A-8'  # base model for transfer learning"
   ]
  },
  {
   "cell_type": "markdown",
   "metadata": {},
   "source": [
    "#### __Dependencies__"
   ]
  },
  {
   "cell_type": "code",
   "execution_count": 4,
   "metadata": {
    "id": "q-YbjCkzw0yU",
    "tags": []
   },
   "outputs": [
    {
     "name": "stdout",
     "output_type": "stream",
     "text": [
      "Requirement already satisfied: flask==2.2.2 in /opt/conda/lib/python3.7/site-packages (from -r service/requirements.txt (line 1)) (2.2.2)\n",
      "Requirement already satisfied: google-cloud-aiplatform==1.18.3 in /opt/conda/lib/python3.7/site-packages (from -r service/requirements.txt (line 2)) (1.18.3)\n",
      "Requirement already satisfied: gunicorn==20.1.0 in /opt/conda/lib/python3.7/site-packages (from -r service/requirements.txt (line 3)) (20.1.0)\n",
      "Requirement already satisfied: tensorflow==2.8.4 in /opt/conda/lib/python3.7/site-packages (from -r service/requirements.txt (line 4)) (2.8.4)\n",
      "Requirement already satisfied: tensorflow_hub==0.12.0 in /opt/conda/lib/python3.7/site-packages (from -r service/requirements.txt (line 5)) (0.12.0)\n",
      "Requirement already satisfied: tensorflow_text==2.8.2 in /opt/conda/lib/python3.7/site-packages (from -r service/requirements.txt (line 6)) (2.8.2)\n",
      "Requirement already satisfied: importlib-metadata>=3.6.0 in /opt/conda/lib/python3.7/site-packages (from flask==2.2.2->-r service/requirements.txt (line 1)) (5.1.0)\n",
      "Requirement already satisfied: Werkzeug>=2.2.2 in /opt/conda/lib/python3.7/site-packages (from flask==2.2.2->-r service/requirements.txt (line 1)) (2.2.2)\n",
      "Requirement already satisfied: click>=8.0 in /opt/conda/lib/python3.7/site-packages (from flask==2.2.2->-r service/requirements.txt (line 1)) (8.1.3)\n",
      "Requirement already satisfied: itsdangerous>=2.0 in /opt/conda/lib/python3.7/site-packages (from flask==2.2.2->-r service/requirements.txt (line 1)) (2.1.2)\n",
      "Requirement already satisfied: Jinja2>=3.0 in /opt/conda/lib/python3.7/site-packages (from flask==2.2.2->-r service/requirements.txt (line 1)) (3.1.2)\n",
      "Requirement already satisfied: protobuf!=3.20.0,!=3.20.1,!=4.21.0,!=4.21.1,!=4.21.2,!=4.21.3,!=4.21.4,!=4.21.5,<5.0.0dev,>=3.19.5 in /opt/conda/lib/python3.7/site-packages (from google-cloud-aiplatform==1.18.3->-r service/requirements.txt (line 2)) (3.19.6)\n",
      "Requirement already satisfied: google-cloud-storage<3.0.0dev,>=1.32.0 in /opt/conda/lib/python3.7/site-packages (from google-cloud-aiplatform==1.18.3->-r service/requirements.txt (line 2)) (2.7.0)\n",
      "Requirement already satisfied: packaging<22.0.0dev,>=14.3 in /opt/conda/lib/python3.7/site-packages (from google-cloud-aiplatform==1.18.3->-r service/requirements.txt (line 2)) (21.3)\n",
      "Requirement already satisfied: proto-plus<2.0.0dev,>=1.22.0 in /opt/conda/lib/python3.7/site-packages (from google-cloud-aiplatform==1.18.3->-r service/requirements.txt (line 2)) (1.22.1)\n",
      "Requirement already satisfied: google-cloud-resource-manager<3.0.0dev,>=1.3.3 in /opt/conda/lib/python3.7/site-packages (from google-cloud-aiplatform==1.18.3->-r service/requirements.txt (line 2)) (1.8.0)\n",
      "Requirement already satisfied: google-cloud-bigquery<3.0.0dev,>=1.15.0 in /opt/conda/lib/python3.7/site-packages (from google-cloud-aiplatform==1.18.3->-r service/requirements.txt (line 2)) (2.34.4)\n",
      "Requirement already satisfied: google-api-core[grpc]!=2.0.*,!=2.1.*,!=2.2.*,!=2.3.*,!=2.4.*,!=2.5.*,!=2.6.*,!=2.7.*,<3.0.0dev,>=1.32.0 in /opt/conda/lib/python3.7/site-packages (from google-cloud-aiplatform==1.18.3->-r service/requirements.txt (line 2)) (1.34.0)\n",
      "Requirement already satisfied: setuptools>=3.0 in /opt/conda/lib/python3.7/site-packages (from gunicorn==20.1.0->-r service/requirements.txt (line 3)) (65.5.1)\n",
      "Requirement already satisfied: libclang>=9.0.1 in /opt/conda/lib/python3.7/site-packages (from tensorflow==2.8.4->-r service/requirements.txt (line 4)) (14.0.6)\n",
      "Requirement already satisfied: flatbuffers>=1.12 in /opt/conda/lib/python3.7/site-packages (from tensorflow==2.8.4->-r service/requirements.txt (line 4)) (22.12.6)\n",
      "Requirement already satisfied: termcolor>=1.1.0 in /opt/conda/lib/python3.7/site-packages (from tensorflow==2.8.4->-r service/requirements.txt (line 4)) (2.1.1)\n",
      "Requirement already satisfied: tensorflow-io-gcs-filesystem>=0.23.1 in /opt/conda/lib/python3.7/site-packages (from tensorflow==2.8.4->-r service/requirements.txt (line 4)) (0.28.0)\n",
      "Requirement already satisfied: opt-einsum>=2.3.2 in /opt/conda/lib/python3.7/site-packages (from tensorflow==2.8.4->-r service/requirements.txt (line 4)) (3.3.0)\n",
      "Requirement already satisfied: astunparse>=1.6.0 in /opt/conda/lib/python3.7/site-packages (from tensorflow==2.8.4->-r service/requirements.txt (line 4)) (1.6.3)\n",
      "Requirement already satisfied: six>=1.12.0 in /opt/conda/lib/python3.7/site-packages (from tensorflow==2.8.4->-r service/requirements.txt (line 4)) (1.16.0)\n",
      "Requirement already satisfied: typing-extensions>=3.6.6 in /opt/conda/lib/python3.7/site-packages (from tensorflow==2.8.4->-r service/requirements.txt (line 4)) (4.4.0)\n",
      "Requirement already satisfied: tensorboard<2.9,>=2.8 in /opt/conda/lib/python3.7/site-packages (from tensorflow==2.8.4->-r service/requirements.txt (line 4)) (2.8.0)\n",
      "Requirement already satisfied: absl-py>=0.4.0 in /opt/conda/lib/python3.7/site-packages (from tensorflow==2.8.4->-r service/requirements.txt (line 4)) (1.3.0)\n",
      "Requirement already satisfied: grpcio<2.0,>=1.24.3 in /opt/conda/lib/python3.7/site-packages (from tensorflow==2.8.4->-r service/requirements.txt (line 4)) (1.51.1)\n",
      "Requirement already satisfied: keras<2.9,>=2.8.0rc0 in /opt/conda/lib/python3.7/site-packages (from tensorflow==2.8.4->-r service/requirements.txt (line 4)) (2.8.0)\n",
      "Requirement already satisfied: numpy>=1.20 in /opt/conda/lib/python3.7/site-packages (from tensorflow==2.8.4->-r service/requirements.txt (line 4)) (1.21.6)\n",
      "Requirement already satisfied: google-pasta>=0.1.1 in /opt/conda/lib/python3.7/site-packages (from tensorflow==2.8.4->-r service/requirements.txt (line 4)) (0.2.0)\n",
      "Requirement already satisfied: wrapt>=1.11.0 in /opt/conda/lib/python3.7/site-packages (from tensorflow==2.8.4->-r service/requirements.txt (line 4)) (1.14.1)\n",
      "Requirement already satisfied: gast>=0.2.1 in /opt/conda/lib/python3.7/site-packages (from tensorflow==2.8.4->-r service/requirements.txt (line 4)) (0.5.3)\n",
      "Requirement already satisfied: keras-preprocessing>=1.1.1 in /opt/conda/lib/python3.7/site-packages (from tensorflow==2.8.4->-r service/requirements.txt (line 4)) (1.1.2)\n",
      "Requirement already satisfied: tensorflow-estimator<2.9,>=2.8 in /opt/conda/lib/python3.7/site-packages (from tensorflow==2.8.4->-r service/requirements.txt (line 4)) (2.8.0)\n",
      "Requirement already satisfied: h5py>=2.9.0 in /opt/conda/lib/python3.7/site-packages (from tensorflow==2.8.4->-r service/requirements.txt (line 4)) (3.7.0)\n",
      "Requirement already satisfied: wheel<1.0,>=0.23.0 in /opt/conda/lib/python3.7/site-packages (from astunparse>=1.6.0->tensorflow==2.8.4->-r service/requirements.txt (line 4)) (0.38.4)\n",
      "Requirement already satisfied: requests<3.0.0dev,>=2.18.0 in /opt/conda/lib/python3.7/site-packages (from google-api-core[grpc]!=2.0.*,!=2.1.*,!=2.2.*,!=2.3.*,!=2.4.*,!=2.5.*,!=2.6.*,!=2.7.*,<3.0.0dev,>=1.32.0->google-cloud-aiplatform==1.18.3->-r service/requirements.txt (line 2)) (2.28.1)\n",
      "Requirement already satisfied: googleapis-common-protos<2.0dev,>=1.56.2 in /opt/conda/lib/python3.7/site-packages (from google-api-core[grpc]!=2.0.*,!=2.1.*,!=2.2.*,!=2.3.*,!=2.4.*,!=2.5.*,!=2.6.*,!=2.7.*,<3.0.0dev,>=1.32.0->google-cloud-aiplatform==1.18.3->-r service/requirements.txt (line 2)) (1.57.0)\n",
      "Requirement already satisfied: google-auth<3.0dev,>=1.25.0 in /opt/conda/lib/python3.7/site-packages (from google-api-core[grpc]!=2.0.*,!=2.1.*,!=2.2.*,!=2.3.*,!=2.4.*,!=2.5.*,!=2.6.*,!=2.7.*,<3.0.0dev,>=1.32.0->google-cloud-aiplatform==1.18.3->-r service/requirements.txt (line 2)) (2.15.0)\n",
      "Requirement already satisfied: grpcio-status<2.0dev,>=1.33.2 in /opt/conda/lib/python3.7/site-packages (from google-api-core[grpc]!=2.0.*,!=2.1.*,!=2.2.*,!=2.3.*,!=2.4.*,!=2.5.*,!=2.6.*,!=2.7.*,<3.0.0dev,>=1.32.0->google-cloud-aiplatform==1.18.3->-r service/requirements.txt (line 2)) (1.48.2)\n",
      "Requirement already satisfied: google-resumable-media<3.0dev,>=0.6.0 in /opt/conda/lib/python3.7/site-packages (from google-cloud-bigquery<3.0.0dev,>=1.15.0->google-cloud-aiplatform==1.18.3->-r service/requirements.txt (line 2)) (2.4.0)\n",
      "Requirement already satisfied: python-dateutil<3.0dev,>=2.7.2 in /opt/conda/lib/python3.7/site-packages (from google-cloud-bigquery<3.0.0dev,>=1.15.0->google-cloud-aiplatform==1.18.3->-r service/requirements.txt (line 2)) (2.8.2)\n",
      "Requirement already satisfied: google-cloud-core<3.0.0dev,>=1.4.1 in /opt/conda/lib/python3.7/site-packages (from google-cloud-bigquery<3.0.0dev,>=1.15.0->google-cloud-aiplatform==1.18.3->-r service/requirements.txt (line 2)) (2.3.2)\n",
      "Requirement already satisfied: grpc-google-iam-v1<1.0.0dev,>=0.12.4 in /opt/conda/lib/python3.7/site-packages (from google-cloud-resource-manager<3.0.0dev,>=1.3.3->google-cloud-aiplatform==1.18.3->-r service/requirements.txt (line 2)) (0.12.4)\n",
      "Requirement already satisfied: zipp>=0.5 in /opt/conda/lib/python3.7/site-packages (from importlib-metadata>=3.6.0->flask==2.2.2->-r service/requirements.txt (line 1)) (3.11.0)\n",
      "Requirement already satisfied: MarkupSafe>=2.0 in /opt/conda/lib/python3.7/site-packages (from Jinja2>=3.0->flask==2.2.2->-r service/requirements.txt (line 1)) (2.1.1)\n",
      "Requirement already satisfied: pyparsing!=3.0.5,>=2.0.2 in /opt/conda/lib/python3.7/site-packages (from packaging<22.0.0dev,>=14.3->google-cloud-aiplatform==1.18.3->-r service/requirements.txt (line 2)) (3.0.9)\n",
      "Requirement already satisfied: tensorboard-plugin-wit>=1.6.0 in /opt/conda/lib/python3.7/site-packages (from tensorboard<2.9,>=2.8->tensorflow==2.8.4->-r service/requirements.txt (line 4)) (1.8.1)\n",
      "Requirement already satisfied: markdown>=2.6.8 in /opt/conda/lib/python3.7/site-packages (from tensorboard<2.9,>=2.8->tensorflow==2.8.4->-r service/requirements.txt (line 4)) (3.4.1)\n",
      "Requirement already satisfied: google-auth-oauthlib<0.5,>=0.4.1 in /opt/conda/lib/python3.7/site-packages (from tensorboard<2.9,>=2.8->tensorflow==2.8.4->-r service/requirements.txt (line 4)) (0.4.6)\n",
      "Requirement already satisfied: tensorboard-data-server<0.7.0,>=0.6.0 in /opt/conda/lib/python3.7/site-packages (from tensorboard<2.9,>=2.8->tensorflow==2.8.4->-r service/requirements.txt (line 4)) (0.6.1)\n",
      "Requirement already satisfied: pyasn1-modules>=0.2.1 in /opt/conda/lib/python3.7/site-packages (from google-auth<3.0dev,>=1.25.0->google-api-core[grpc]!=2.0.*,!=2.1.*,!=2.2.*,!=2.3.*,!=2.4.*,!=2.5.*,!=2.6.*,!=2.7.*,<3.0.0dev,>=1.32.0->google-cloud-aiplatform==1.18.3->-r service/requirements.txt (line 2)) (0.2.8)\n",
      "Requirement already satisfied: cachetools<6.0,>=2.0.0 in /opt/conda/lib/python3.7/site-packages (from google-auth<3.0dev,>=1.25.0->google-api-core[grpc]!=2.0.*,!=2.1.*,!=2.2.*,!=2.3.*,!=2.4.*,!=2.5.*,!=2.6.*,!=2.7.*,<3.0.0dev,>=1.32.0->google-cloud-aiplatform==1.18.3->-r service/requirements.txt (line 2)) (5.2.0)\n",
      "Requirement already satisfied: rsa<5,>=3.1.4 in /opt/conda/lib/python3.7/site-packages (from google-auth<3.0dev,>=1.25.0->google-api-core[grpc]!=2.0.*,!=2.1.*,!=2.2.*,!=2.3.*,!=2.4.*,!=2.5.*,!=2.6.*,!=2.7.*,<3.0.0dev,>=1.32.0->google-cloud-aiplatform==1.18.3->-r service/requirements.txt (line 2)) (4.9)\n",
      "Requirement already satisfied: requests-oauthlib>=0.7.0 in /opt/conda/lib/python3.7/site-packages (from google-auth-oauthlib<0.5,>=0.4.1->tensorboard<2.9,>=2.8->tensorflow==2.8.4->-r service/requirements.txt (line 4)) (1.3.1)\n",
      "Requirement already satisfied: google-crc32c<2.0dev,>=1.0 in /opt/conda/lib/python3.7/site-packages (from google-resumable-media<3.0dev,>=0.6.0->google-cloud-bigquery<3.0.0dev,>=1.15.0->google-cloud-aiplatform==1.18.3->-r service/requirements.txt (line 2)) (1.5.0)\n",
      "Requirement already satisfied: certifi>=2017.4.17 in /opt/conda/lib/python3.7/site-packages (from requests<3.0.0dev,>=2.18.0->google-api-core[grpc]!=2.0.*,!=2.1.*,!=2.2.*,!=2.3.*,!=2.4.*,!=2.5.*,!=2.6.*,!=2.7.*,<3.0.0dev,>=1.32.0->google-cloud-aiplatform==1.18.3->-r service/requirements.txt (line 2)) (2022.12.7)\n",
      "Requirement already satisfied: urllib3<1.27,>=1.21.1 in /opt/conda/lib/python3.7/site-packages (from requests<3.0.0dev,>=2.18.0->google-api-core[grpc]!=2.0.*,!=2.1.*,!=2.2.*,!=2.3.*,!=2.4.*,!=2.5.*,!=2.6.*,!=2.7.*,<3.0.0dev,>=1.32.0->google-cloud-aiplatform==1.18.3->-r service/requirements.txt (line 2)) (1.26.13)\n",
      "Requirement already satisfied: idna<4,>=2.5 in /opt/conda/lib/python3.7/site-packages (from requests<3.0.0dev,>=2.18.0->google-api-core[grpc]!=2.0.*,!=2.1.*,!=2.2.*,!=2.3.*,!=2.4.*,!=2.5.*,!=2.6.*,!=2.7.*,<3.0.0dev,>=1.32.0->google-cloud-aiplatform==1.18.3->-r service/requirements.txt (line 2)) (3.4)\n",
      "Requirement already satisfied: charset-normalizer<3,>=2 in /opt/conda/lib/python3.7/site-packages (from requests<3.0.0dev,>=2.18.0->google-api-core[grpc]!=2.0.*,!=2.1.*,!=2.2.*,!=2.3.*,!=2.4.*,!=2.5.*,!=2.6.*,!=2.7.*,<3.0.0dev,>=1.32.0->google-cloud-aiplatform==1.18.3->-r service/requirements.txt (line 2)) (2.1.1)\n",
      "Requirement already satisfied: pyasn1<0.5.0,>=0.4.6 in /opt/conda/lib/python3.7/site-packages (from pyasn1-modules>=0.2.1->google-auth<3.0dev,>=1.25.0->google-api-core[grpc]!=2.0.*,!=2.1.*,!=2.2.*,!=2.3.*,!=2.4.*,!=2.5.*,!=2.6.*,!=2.7.*,<3.0.0dev,>=1.32.0->google-cloud-aiplatform==1.18.3->-r service/requirements.txt (line 2)) (0.4.8)\n",
      "Requirement already satisfied: oauthlib>=3.0.0 in /opt/conda/lib/python3.7/site-packages (from requests-oauthlib>=0.7.0->google-auth-oauthlib<0.5,>=0.4.1->tensorboard<2.9,>=2.8->tensorflow==2.8.4->-r service/requirements.txt (line 4)) (3.2.2)\n"
     ]
    }
   ],
   "source": [
    "!pip install -r service/requirements.txt\n",
    "!pip install google-cloud-aiplatform==1.18.3"
   ]
  },
  {
   "cell_type": "markdown",
   "metadata": {},
   "source": [
    "#### __Handle imports, utilites, and staging storage__"
   ]
  },
  {
   "cell_type": "code",
   "execution_count": 5,
   "metadata": {
    "id": "_XgTpm9ZxoN9",
    "tags": []
   },
   "outputs": [],
   "source": [
    "import os\n",
    "import warnings\n",
    "\n",
    "import matplotlib.pyplot as plt\n",
    "import pandas as pd\n",
    "import tensorflow as tf\n",
    "import tensorflow_hub as hub\n",
    "import tensorflow_text as text\n",
    "\n",
    "from pylab import rcParams\n",
    "from sklearn.model_selection import train_test_split\n",
    "from sklearn.preprocessing import LabelBinarizer\n",
    "\n",
    "from google.cloud import exceptions\n",
    "\n",
    "binarizer = LabelBinarizer()\n",
    "\n",
    "tf.get_logger().setLevel('ERROR')\n",
    "rcParams['figure.figsize'] = 12, 8\n",
    "warnings.filterwarnings(\"ignore\")"
   ]
  },
  {
   "cell_type": "markdown",
   "metadata": {},
   "source": [
    "#### __Create Cloud Storage bucket__"
   ]
  },
  {
   "cell_type": "code",
   "execution_count": 6,
   "metadata": {},
   "outputs": [],
   "source": [
    "from google.cloud import storage\n",
    "\n",
    "storage_client = storage.Client()\n",
    "\n",
    "try:\n",
    "    bucket = storage_client.bucket(GCP_BUCKET)\n",
    "    bucket.storage_class = \"STANDARD\"\n",
    "    new_bucket = storage_client.create_bucket(bucket, location=GCP_REGION)\n",
    "except exceptions.Conflict:\n",
    "    print(\"Bucket already exists - choose a new name if the bucket is not under your control\")\n",
    "    pass"
   ]
  },
  {
   "cell_type": "markdown",
   "metadata": {},
   "source": [
    "## Custom model"
   ]
  },
  {
   "cell_type": "markdown",
   "metadata": {},
   "source": [
    "#### __Data preparation__"
   ]
  },
  {
   "cell_type": "code",
   "execution_count": 7,
   "metadata": {},
   "outputs": [
    {
     "data": {
      "text/plain": [
       "((347, 2), (82, 2), (82, 2))"
      ]
     },
     "execution_count": 7,
     "metadata": {},
     "output_type": "execute_result"
    }
   ],
   "source": [
    "df = pd.read_csv(DATA_FILE)\n",
    "\n",
    "# Split off a testing dataset\n",
    "train_df, test_df = train_test_split(df, test_size=0.16, random_state=42)\n",
    "\n",
    "# Split the remaining data into training and validation datasets\n",
    "train_df, valid_df = train_test_split(train_df, test_size=0.19, random_state=42)\n",
    "\n",
    "train_df.shape, test_df.shape, valid_df.shape"
   ]
  },
  {
   "cell_type": "code",
   "execution_count": 8,
   "metadata": {},
   "outputs": [],
   "source": [
    "# Separate out features and labels (training)\n",
    "train_copy = train_df.copy()\n",
    "train_labels = train_copy.pop(\"intent\")\n",
    "train_labels = binarizer.fit_transform(train_labels.values)\n",
    "train_features = train_copy.values\n",
    "intent_count = train_labels.shape[1]"
   ]
  },
  {
   "cell_type": "code",
   "execution_count": 9,
   "metadata": {},
   "outputs": [],
   "source": [
    "# Separate out features and labels (testing)\n",
    "test_copy = test_df.copy()\n",
    "test_labels = test_copy.pop(\"intent\")\n",
    "test_labels = binarizer.transform(test_labels.values)\n",
    "test_features = test_copy.values"
   ]
  },
  {
   "cell_type": "code",
   "execution_count": 10,
   "metadata": {},
   "outputs": [],
   "source": [
    "# Separate out features and labels (validation)\n",
    "valid_copy = valid_df.copy()\n",
    "valid_labels = valid_copy.pop(\"intent\")\n",
    "valid_labels = binarizer.transform(valid_labels.values)\n",
    "valid_features = valid_copy.values"
   ]
  },
  {
   "cell_type": "markdown",
   "metadata": {
    "id": "dX8FtlpGJRE6"
   },
   "source": [
    "#### __Load model from TensorFlow Hub__\n",
    "\n",
    "Here you can choose which BERT model you will load from TensorFlow Hub and fine-tune. There are multiple BERT models available.\n",
    "\n",
    "  - [BERT-Base](https://tfhub.dev/tensorflow/bert_en_uncased_L-12_H-768_A-12/3), [Uncased](https://tfhub.dev/tensorflow/bert_en_uncased_L-12_H-768_A-12/3) and [seven more models](https://tfhub.dev/google/collections/bert/1) with trained weights released by the original BERT authors.\n",
    "  - [Small BERTs](https://tfhub.dev/google/collections/bert/1) have the same general architecture but fewer and/or smaller Transformer blocks, which lets you explore tradeoffs between speed, size and quality.\n",
    "  - [ALBERT](https://tfhub.dev/google/collections/albert/1): four different sizes of \"A Lite BERT\" that reduces model size (but not computation time) by sharing parameters between layers.\n",
    "  - [BERT Experts](https://tfhub.dev/google/collections/experts/bert/1): eight models that all have the BERT-base architecture but offer a choice between different pre-training domains, to align more closely with the target task.\n",
    "  - [Electra](https://tfhub.dev/google/collections/electra/1) has the same architecture as BERT (in three different sizes), but gets pre-trained as a discriminator in a set-up that resembles a Generative Adversarial Network (GAN).\n",
    "  - BERT with Talking-Heads Attention and Gated GELU [[base](https://tfhub.dev/tensorflow/talkheads_ggelu_bert_en_base/1), [large](https://tfhub.dev/tensorflow/talkheads_ggelu_bert_en_large/1)] has two improvements to the core of the Transformer architecture.\n",
    "\n",
    "The model documentation on TensorFlow Hub has more details and references to the\n",
    "research literature. Follow the links above, or click on the [`tfhub.dev`](http://tfhub.dev) URL\n",
    "printed after the next cell execution.\n",
    "\n",
    "The suggestion is to start with a Small BERT (with fewer parameters) since they are faster to fine-tune. If you like a small model but with higher accuracy, ALBERT might be your next option. If you want even better accuracy, choose\n",
    "one of the classic BERT sizes or their recent refinements like Electra, Talking Heads, or a BERT Expert."
   ]
  },
  {
   "cell_type": "code",
   "execution_count": 11,
   "metadata": {
    "id": "y8_ctG55-uTX",
    "tags": []
   },
   "outputs": [
    {
     "name": "stdout",
     "output_type": "stream",
     "text": [
      "BERT model selected           : https://tfhub.dev/tensorflow/small_bert/bert_en_uncased_L-8_H-512_A-8/1\n",
      "Preprocess model auto-selected: https://tfhub.dev/tensorflow/bert_en_uncased_preprocess/2\n"
     ]
    }
   ],
   "source": [
    "map_name_to_handle = {\n",
    "    'bert_en_uncased_L-12_H-768_A-12':\n",
    "        'https://tfhub.dev/tensorflow/bert_en_uncased_L-12_H-768_A-12/3',\n",
    "    'bert_en_cased_L-12_H-768_A-12':\n",
    "        'https://tfhub.dev/tensorflow/bert_en_cased_L-12_H-768_A-12/3',\n",
    "    'bert_multi_cased_L-12_H-768_A-12':\n",
    "        'https://tfhub.dev/tensorflow/bert_multi_cased_L-12_H-768_A-12/3',\n",
    "    'small_bert/bert_en_uncased_L-2_H-128_A-2':\n",
    "        'https://tfhub.dev/tensorflow/small_bert/bert_en_uncased_L-2_H-128_A-2/1',\n",
    "    'small_bert/bert_en_uncased_L-2_H-256_A-4':\n",
    "        'https://tfhub.dev/tensorflow/small_bert/bert_en_uncased_L-2_H-256_A-4/1',\n",
    "    'small_bert/bert_en_uncased_L-2_H-512_A-8':\n",
    "        'https://tfhub.dev/tensorflow/small_bert/bert_en_uncased_L-2_H-512_A-8/1',\n",
    "    'small_bert/bert_en_uncased_L-2_H-768_A-12':\n",
    "        'https://tfhub.dev/tensorflow/small_bert/bert_en_uncased_L-2_H-768_A-12/1',\n",
    "    'small_bert/bert_en_uncased_L-4_H-128_A-2':\n",
    "        'https://tfhub.dev/tensorflow/small_bert/bert_en_uncased_L-4_H-128_A-2/1',\n",
    "    'small_bert/bert_en_uncased_L-4_H-256_A-4':\n",
    "        'https://tfhub.dev/tensorflow/small_bert/bert_en_uncased_L-4_H-256_A-4/1',\n",
    "    'small_bert/bert_en_uncased_L-4_H-512_A-8':\n",
    "        'https://tfhub.dev/tensorflow/small_bert/bert_en_uncased_L-4_H-512_A-8/1',\n",
    "    'small_bert/bert_en_uncased_L-4_H-768_A-12':\n",
    "        'https://tfhub.dev/tensorflow/small_bert/bert_en_uncased_L-4_H-768_A-12/1',\n",
    "    'small_bert/bert_en_uncased_L-6_H-128_A-2':\n",
    "        'https://tfhub.dev/tensorflow/small_bert/bert_en_uncased_L-6_H-128_A-2/1',\n",
    "    'small_bert/bert_en_uncased_L-6_H-256_A-4':\n",
    "        'https://tfhub.dev/tensorflow/small_bert/bert_en_uncased_L-6_H-256_A-4/1',\n",
    "    'small_bert/bert_en_uncased_L-6_H-512_A-8':\n",
    "        'https://tfhub.dev/tensorflow/small_bert/bert_en_uncased_L-6_H-512_A-8/1',\n",
    "    'small_bert/bert_en_uncased_L-6_H-768_A-12':\n",
    "        'https://tfhub.dev/tensorflow/small_bert/bert_en_uncased_L-6_H-768_A-12/1',\n",
    "    'small_bert/bert_en_uncased_L-8_H-128_A-2':\n",
    "        'https://tfhub.dev/tensorflow/small_bert/bert_en_uncased_L-8_H-128_A-2/1',\n",
    "    'small_bert/bert_en_uncased_L-8_H-256_A-4':\n",
    "        'https://tfhub.dev/tensorflow/small_bert/bert_en_uncased_L-8_H-256_A-4/1',\n",
    "    'small_bert/bert_en_uncased_L-8_H-512_A-8':\n",
    "        'https://tfhub.dev/tensorflow/small_bert/bert_en_uncased_L-8_H-512_A-8/1',\n",
    "    'small_bert/bert_en_uncased_L-8_H-768_A-12':\n",
    "        'https://tfhub.dev/tensorflow/small_bert/bert_en_uncased_L-8_H-768_A-12/1',\n",
    "    'small_bert/bert_en_uncased_L-10_H-128_A-2':\n",
    "        'https://tfhub.dev/tensorflow/small_bert/bert_en_uncased_L-10_H-128_A-2/1',\n",
    "    'small_bert/bert_en_uncased_L-10_H-256_A-4':\n",
    "        'https://tfhub.dev/tensorflow/small_bert/bert_en_uncased_L-10_H-256_A-4/1',\n",
    "    'small_bert/bert_en_uncased_L-10_H-512_A-8':\n",
    "        'https://tfhub.dev/tensorflow/small_bert/bert_en_uncased_L-10_H-512_A-8/1',\n",
    "    'small_bert/bert_en_uncased_L-10_H-768_A-12':\n",
    "        'https://tfhub.dev/tensorflow/small_bert/bert_en_uncased_L-10_H-768_A-12/1',\n",
    "    'small_bert/bert_en_uncased_L-12_H-128_A-2':\n",
    "        'https://tfhub.dev/tensorflow/small_bert/bert_en_uncased_L-12_H-128_A-2/1',\n",
    "    'small_bert/bert_en_uncased_L-12_H-256_A-4':\n",
    "        'https://tfhub.dev/tensorflow/small_bert/bert_en_uncased_L-12_H-256_A-4/1',\n",
    "    'small_bert/bert_en_uncased_L-12_H-512_A-8':\n",
    "        'https://tfhub.dev/tensorflow/small_bert/bert_en_uncased_L-12_H-512_A-8/1',\n",
    "    'small_bert/bert_en_uncased_L-12_H-768_A-12':\n",
    "        'https://tfhub.dev/tensorflow/small_bert/bert_en_uncased_L-12_H-768_A-12/1',\n",
    "    'albert_en_base':\n",
    "        'https://tfhub.dev/tensorflow/albert_en_base/2',\n",
    "    'electra_small':\n",
    "        'https://tfhub.dev/google/electra_small/2',\n",
    "    'electra_base':\n",
    "        'https://tfhub.dev/google/electra_base/2',\n",
    "    'experts_pubmed':\n",
    "        'https://tfhub.dev/google/experts/bert/pubmed/2',\n",
    "    'experts_wiki_books':\n",
    "        'https://tfhub.dev/google/experts/bert/wiki_books/2',\n",
    "    'talking-heads_base':\n",
    "        'https://tfhub.dev/tensorflow/talkheads_ggelu_bert_en_base/1',\n",
    "}\n",
    "\n",
    "map_model_to_preprocess = {\n",
    "    'bert_en_uncased_L-12_H-768_A-12':\n",
    "        'https://tfhub.dev/tensorflow/bert_en_uncased_preprocess/2',\n",
    "    'bert_en_cased_L-12_H-768_A-12':\n",
    "        'https://tfhub.dev/tensorflow/bert_en_cased_preprocess/2',\n",
    "    'small_bert/bert_en_uncased_L-2_H-128_A-2':\n",
    "        'https://tfhub.dev/tensorflow/bert_en_uncased_preprocess/2',\n",
    "    'small_bert/bert_en_uncased_L-2_H-256_A-4':\n",
    "        'https://tfhub.dev/tensorflow/bert_en_uncased_preprocess/2',\n",
    "    'small_bert/bert_en_uncased_L-2_H-512_A-8':\n",
    "        'https://tfhub.dev/tensorflow/bert_en_uncased_preprocess/2',\n",
    "    'small_bert/bert_en_uncased_L-2_H-768_A-12':\n",
    "        'https://tfhub.dev/tensorflow/bert_en_uncased_preprocess/2',\n",
    "    'small_bert/bert_en_uncased_L-4_H-128_A-2':\n",
    "        'https://tfhub.dev/tensorflow/bert_en_uncased_preprocess/2',\n",
    "    'small_bert/bert_en_uncased_L-4_H-256_A-4':\n",
    "        'https://tfhub.dev/tensorflow/bert_en_uncased_preprocess/2',\n",
    "    'small_bert/bert_en_uncased_L-4_H-512_A-8':\n",
    "        'https://tfhub.dev/tensorflow/bert_en_uncased_preprocess/2',\n",
    "    'small_bert/bert_en_uncased_L-4_H-768_A-12':\n",
    "        'https://tfhub.dev/tensorflow/bert_en_uncased_preprocess/2',\n",
    "    'small_bert/bert_en_uncased_L-6_H-128_A-2':\n",
    "        'https://tfhub.dev/tensorflow/bert_en_uncased_preprocess/2',\n",
    "    'small_bert/bert_en_uncased_L-6_H-256_A-4':\n",
    "        'https://tfhub.dev/tensorflow/bert_en_uncased_preprocess/2',\n",
    "    'small_bert/bert_en_uncased_L-6_H-512_A-8':\n",
    "        'https://tfhub.dev/tensorflow/bert_en_uncased_preprocess/2',\n",
    "    'small_bert/bert_en_uncased_L-6_H-768_A-12':\n",
    "        'https://tfhub.dev/tensorflow/bert_en_uncased_preprocess/2',\n",
    "    'small_bert/bert_en_uncased_L-8_H-128_A-2':\n",
    "        'https://tfhub.dev/tensorflow/bert_en_uncased_preprocess/2',\n",
    "    'small_bert/bert_en_uncased_L-8_H-256_A-4':\n",
    "        'https://tfhub.dev/tensorflow/bert_en_uncased_preprocess/2',\n",
    "    'small_bert/bert_en_uncased_L-8_H-512_A-8':\n",
    "        'https://tfhub.dev/tensorflow/bert_en_uncased_preprocess/2',\n",
    "    'small_bert/bert_en_uncased_L-8_H-768_A-12':\n",
    "        'https://tfhub.dev/tensorflow/bert_en_uncased_preprocess/2',\n",
    "    'small_bert/bert_en_uncased_L-10_H-128_A-2':\n",
    "        'https://tfhub.dev/tensorflow/bert_en_uncased_preprocess/2',\n",
    "    'small_bert/bert_en_uncased_L-10_H-256_A-4':\n",
    "        'https://tfhub.dev/tensorflow/bert_en_uncased_preprocess/2',\n",
    "    'small_bert/bert_en_uncased_L-10_H-512_A-8':\n",
    "        'https://tfhub.dev/tensorflow/bert_en_uncased_preprocess/2',\n",
    "    'small_bert/bert_en_uncased_L-10_H-768_A-12':\n",
    "        'https://tfhub.dev/tensorflow/bert_en_uncased_preprocess/2',\n",
    "    'small_bert/bert_en_uncased_L-12_H-128_A-2':\n",
    "        'https://tfhub.dev/tensorflow/bert_en_uncased_preprocess/2',\n",
    "    'small_bert/bert_en_uncased_L-12_H-256_A-4':\n",
    "        'https://tfhub.dev/tensorflow/bert_en_uncased_preprocess/2',\n",
    "    'small_bert/bert_en_uncased_L-12_H-512_A-8':\n",
    "        'https://tfhub.dev/tensorflow/bert_en_uncased_preprocess/2',\n",
    "    'small_bert/bert_en_uncased_L-12_H-768_A-12':\n",
    "        'https://tfhub.dev/tensorflow/bert_en_uncased_preprocess/2',\n",
    "    'bert_multi_cased_L-12_H-768_A-12':\n",
    "        'https://tfhub.dev/tensorflow/bert_multi_cased_preprocess/2',\n",
    "    'albert_en_base':\n",
    "        'https://tfhub.dev/tensorflow/albert_en_preprocess/2',\n",
    "    'electra_small':\n",
    "        'https://tfhub.dev/tensorflow/bert_en_uncased_preprocess/2',\n",
    "    'electra_base':\n",
    "        'https://tfhub.dev/tensorflow/bert_en_uncased_preprocess/2',\n",
    "    'experts_pubmed':\n",
    "        'https://tfhub.dev/tensorflow/bert_en_uncased_preprocess/2',\n",
    "    'experts_wiki_books':\n",
    "        'https://tfhub.dev/tensorflow/bert_en_uncased_preprocess/2',\n",
    "    'talking-heads_base':\n",
    "        'https://tfhub.dev/tensorflow/bert_en_uncased_preprocess/2',\n",
    "}\n",
    "\n",
    "tfhub_handle_encoder = map_name_to_handle[BERT_MODEL_NAME]\n",
    "tfhub_handle_preprocess = map_model_to_preprocess[BERT_MODEL_NAME]\n",
    "\n",
    "print(f'BERT model selected           : {tfhub_handle_encoder}')\n",
    "print(f'Preprocess model auto-selected: {tfhub_handle_preprocess}')"
   ]
  },
  {
   "cell_type": "markdown",
   "metadata": {
    "id": "7WrcxxTRDdHi"
   },
   "source": [
    "#### __The preprocessing model__\n",
    "\n",
    "Text inputs need to be transformed to numeric token ids and arranged in several Tensors before being input to BERT. TensorFlow Hub provides a matching preprocessing model for each of the BERT models discussed above, which implements this transformation using TF ops from the TF.text library. It is not necessary to run pure Python code outside your TensorFlow model to preprocess text.\n",
    "\n",
    "The preprocessing model must be the one referenced by the documentation of the BERT model, which you can read at the URL printed above. For BERT models from the drop-down above, the preprocessing model is selected automatically.\n",
    "\n",
    "Note: You will load the preprocessing model into a [hub.KerasLayer](https://www.tensorflow.org/hub/api_docs/python/hub/KerasLayer) to compose your fine-tuned model. This is the preferred API to load a TF2-style SavedModel from TF Hub into a Keras model."
   ]
  },
  {
   "cell_type": "code",
   "execution_count": 12,
   "metadata": {
    "id": "0SQi-jWd_jzq",
    "tags": []
   },
   "outputs": [
    {
     "name": "stderr",
     "output_type": "stream",
     "text": [
      "2023-01-17 22:50:26.002258: W tensorflow/stream_executor/platform/default/dso_loader.cc:64] Could not load dynamic library 'libcuda.so.1'; dlerror: libcuda.so.1: cannot open shared object file: No such file or directory; LD_LIBRARY_PATH: /usr/local/cuda/lib64:/usr/local/nccl2/lib:/usr/local/cuda/extras/CUPTI/lib64\n",
      "2023-01-17 22:50:26.002306: W tensorflow/stream_executor/cuda/cuda_driver.cc:269] failed call to cuInit: UNKNOWN ERROR (303)\n",
      "2023-01-17 22:50:26.002335: I tensorflow/stream_executor/cuda/cuda_diagnostics.cc:156] kernel driver does not appear to be running on this host (tensorflow-2-8-20230117-000657): /proc/driver/nvidia/version does not exist\n",
      "2023-01-17 22:50:26.002591: I tensorflow/core/platform/cpu_feature_guard.cc:151] This TensorFlow binary is optimized with oneAPI Deep Neural Network Library (oneDNN) to use the following CPU instructions in performance-critical operations:  AVX2 FMA\n",
      "To enable them in other operations, rebuild TensorFlow with the appropriate compiler flags.\n"
     ]
    }
   ],
   "source": [
    "bert_preprocess_model = hub.KerasLayer(tfhub_handle_preprocess)"
   ]
  },
  {
   "cell_type": "markdown",
   "metadata": {
    "id": "x4naBiEE_cZX"
   },
   "source": [
    "Let's try the preprocessing model on some text and see the output:"
   ]
  },
  {
   "cell_type": "code",
   "execution_count": 13,
   "metadata": {},
   "outputs": [
    {
     "data": {
      "text/plain": [
       "array(['Can you tell me how to change the scale of one of your microservices?'],\n",
       "      dtype=object)"
      ]
     },
     "execution_count": 13,
     "metadata": {},
     "output_type": "execute_result"
    }
   ],
   "source": [
    "train_features[0]"
   ]
  },
  {
   "cell_type": "code",
   "execution_count": 14,
   "metadata": {
    "id": "r9-zCzJpnuwS",
    "tags": []
   },
   "outputs": [
    {
     "name": "stdout",
     "output_type": "stream",
     "text": [
      "Keys       : ['input_mask', 'input_type_ids', 'input_word_ids']\n",
      "Shape      : (1, 128)\n",
      "Word Ids   : [ 101 2064 2017 2425 2033 2129 2000 2689 1996 4094 1997 2028]\n",
      "Input Mask : [1 1 1 1 1 1 1 1 1 1 1 1]\n",
      "Type Ids   : [0 0 0 0 0 0 0 0 0 0 0 0]\n"
     ]
    }
   ],
   "source": [
    "text_test = train_features[0]\n",
    "text_preprocessed = bert_preprocess_model(text_test)\n",
    "\n",
    "print(f'Keys       : {list(text_preprocessed.keys())}')\n",
    "print(f'Shape      : {text_preprocessed[\"input_word_ids\"].shape}')\n",
    "print(f'Word Ids   : {text_preprocessed[\"input_word_ids\"][0, :12]}')\n",
    "print(f'Input Mask : {text_preprocessed[\"input_mask\"][0, :12]}')\n",
    "print(f'Type Ids   : {text_preprocessed[\"input_type_ids\"][0, :12]}')"
   ]
  },
  {
   "cell_type": "markdown",
   "metadata": {
    "id": "EqL7ihkN_862"
   },
   "source": [
    "As can be seen, there are 3 outputs from the preprocessing that a BERT model would use (`input_words_id`, `input_mask` and `input_type_ids`).\n",
    "\n",
    "Some other important points:\n",
    "- The input is truncated to 128 tokens. The number of tokens can be customized and you can see more details on the [Solve GLUE tasks using BERT on a TPU colab](https://www.tensorflow.org/tutorials/text/solve_glue_tasks_using_bert_on_tpu).\n",
    "- The `input_type_ids` only have one value (0) because this is a single sentence input. For a multiple sentence input, it would have one number for each input.\n",
    "\n",
    "Since this text preprocessor is a TensorFlow model, It can be included in your model directly."
   ]
  },
  {
   "cell_type": "markdown",
   "metadata": {
    "id": "DKnLPSEmtp9i"
   },
   "source": [
    "#### __Using the BERT model__\n",
    "\n",
    "Before putting BERT into an own model, let's take a look at its outputs. You will load it from TF Hub and see the returned values."
   ]
  },
  {
   "cell_type": "code",
   "execution_count": 15,
   "metadata": {
    "id": "tXxYpK8ixL34",
    "tags": []
   },
   "outputs": [],
   "source": [
    "bert_model = hub.KerasLayer(tfhub_handle_encoder)"
   ]
  },
  {
   "cell_type": "code",
   "execution_count": 16,
   "metadata": {
    "id": "_OoF9mebuSZc",
    "tags": []
   },
   "outputs": [
    {
     "name": "stdout",
     "output_type": "stream",
     "text": [
      "Loaded BERT             : https://tfhub.dev/tensorflow/small_bert/bert_en_uncased_L-8_H-512_A-8/1\n",
      "Pooled Outputs Shape    : (1, 512)\n",
      "Pooled Outputs Values   : [ 0.385889   -0.12248868 -0.9998633   0.28463823 -0.4075239  -0.39477754\n",
      " -0.99803925  0.2665583   0.24860786  0.08505904 -0.34656683  0.1943462 ]\n",
      "Sequence Outputs Shape  : (1, 128, 512)\n",
      "Sequence Outputs Values : [[-0.23372588  0.3678839   0.94593    ... -0.12252477 -0.43001646\n",
      "   0.6094305 ]\n",
      " [-0.39601198 -0.09191871  0.30907482 ... -0.6917538   1.4148049\n",
      "  -0.2261968 ]\n",
      " [-1.4655601  -0.6329228   1.4872218  ... -0.44263726 -0.7672484\n",
      "  -0.14803627]\n",
      " ...\n",
      " [-0.59902114  0.02120084  0.6990685  ...  0.9867604  -0.20310818\n",
      "  -0.4146583 ]\n",
      " [-0.16003767  0.2527567   1.5589244  ...  0.30391887  1.2162194\n",
      "  -0.24888408]\n",
      " [ 0.30644155  0.27735925  0.70691913 ...  0.53195554  0.14866629\n",
      "   0.9018017 ]]\n"
     ]
    }
   ],
   "source": [
    "bert_results = bert_model(text_preprocessed)\n",
    "\n",
    "print(f'Loaded BERT             : {tfhub_handle_encoder}')\n",
    "print(f'Pooled Outputs Shape    : {bert_results[\"pooled_output\"].shape}')\n",
    "print(f'Pooled Outputs Values   : {bert_results[\"pooled_output\"][0, :12]}')\n",
    "print(f'Sequence Outputs Shape  : {bert_results[\"sequence_output\"].shape}')\n",
    "print(f'Sequence Outputs Values : {bert_results[\"sequence_output\"][0, :12]}')"
   ]
  },
  {
   "cell_type": "markdown",
   "metadata": {
    "id": "sm61jDrezAll"
   },
   "source": [
    "The BERT models return a map with 3 important keys: `pooled_output`, `sequence_output`, `encoder_outputs`:\n",
    "\n",
    "- `pooled_output` to represent each input sequence as a whole. The shape is `[batch_size, H]`. You can think of this as an embedding for the entire movie review.\n",
    "- `sequence_output` represents each input token in the context. The shape is `[batch_size, seq_length, H]`. You can think of this as a contextual embedding for every token in the movie review.\n",
    "- `encoder_outputs` are the intermediate activations of the `L` Transformer blocks. `outputs[\"encoder_outputs\"][i]` is a Tensor of shape `[batch_size, seq_length, 1024]` with the outputs of the i-th Transformer block, for `0 <= i < L`. The last value of the list is equal to `sequence_output`.\n",
    "\n",
    "For the fine-tuning you are going to use the `pooled_output` array."
   ]
  },
  {
   "cell_type": "markdown",
   "metadata": {
    "id": "pDNKfAXbDnJH"
   },
   "source": [
    "#### __Define the model__\n",
    "\n",
    "You will create a very simple fine-tuned model, with the preprocessing model, the selected BERT model, one Dense and a Dropout layer.\n",
    "\n",
    "Note: for more information about the base model's input and output you can use just follow the model's url for documentation. Here specifically you don't need to worry about it because the preprocessing model will take care of that for you.\n"
   ]
  },
  {
   "cell_type": "code",
   "execution_count": 17,
   "metadata": {
    "id": "aksj743St9ga",
    "tags": []
   },
   "outputs": [],
   "source": [
    "def build_classifier_model():\n",
    "    text_input = tf.keras.layers.Input(shape=(), dtype=tf.string, name='text')\n",
    "    preprocessing_layer = hub.KerasLayer(tfhub_handle_preprocess, name='preprocessing')\n",
    "    encoder_inputs = preprocessing_layer(text_input)\n",
    "    encoder = hub.KerasLayer(tfhub_handle_encoder, trainable=True, name='BERT_encoder')\n",
    "    outputs = encoder(encoder_inputs)\n",
    "    net = outputs['pooled_output']\n",
    "    net = tf.keras.layers.Dropout(0.1)(net)\n",
    "    net = tf.keras.layers.Dense(intent_count, activation=None, name='classifier')(net)\n",
    "    return tf.keras.Model(text_input, net)"
   ]
  },
  {
   "cell_type": "markdown",
   "metadata": {
    "id": "Zs4yhFraBuGQ"
   },
   "source": [
    "Let's check that the model runs with the output of the preprocessing model."
   ]
  },
  {
   "cell_type": "code",
   "execution_count": 18,
   "metadata": {
    "id": "mGMF8AZcB2Zy",
    "tags": []
   },
   "outputs": [
    {
     "name": "stdout",
     "output_type": "stream",
     "text": [
      "tf.Tensor(\n",
      "[[0.16331084 0.22407842 0.26904288 0.04798554 0.12082581 0.0503904\n",
      "  0.09420813 0.03015799]], shape=(1, 8), dtype=float32)\n"
     ]
    }
   ],
   "source": [
    "classifier_model = build_classifier_model()\n",
    "bert_raw_result = classifier_model(tf.constant(train_features[0]))\n",
    "print(tf.keras.activations.softmax(bert_raw_result))"
   ]
  },
  {
   "cell_type": "markdown",
   "metadata": {
    "id": "ZTUzNV2JE2G3"
   },
   "source": [
    "The output is meaningless, of course, because the model has not been trained yet.\n",
    "\n",
    "Let's take a look at the model's structure."
   ]
  },
  {
   "cell_type": "code",
   "execution_count": 19,
   "metadata": {},
   "outputs": [
    {
     "name": "stdout",
     "output_type": "stream",
     "text": [
      "Model: \"model\"\n",
      "__________________________________________________________________________________________________\n",
      " Layer (type)                   Output Shape         Param #     Connected to                     \n",
      "==================================================================================================\n",
      " text (InputLayer)              [(None,)]            0           []                               \n",
      "                                                                                                  \n",
      " preprocessing (KerasLayer)     {'input_mask': (Non  0           ['text[0][0]']                   \n",
      "                                e, 128),                                                          \n",
      "                                 'input_word_ids':                                                \n",
      "                                (None, 128),                                                      \n",
      "                                 'input_type_ids':                                                \n",
      "                                (None, 128)}                                                      \n",
      "                                                                                                  \n",
      " BERT_encoder (KerasLayer)      {'encoder_outputs':  41373185    ['preprocessing[0][0]',          \n",
      "                                 [(None, 128, 512),               'preprocessing[0][1]',          \n",
      "                                 (None, 128, 512),                'preprocessing[0][2]']          \n",
      "                                 (None, 128, 512),                                                \n",
      "                                 (None, 128, 512),                                                \n",
      "                                 (None, 128, 512),                                                \n",
      "                                 (None, 128, 512),                                                \n",
      "                                 (None, 128, 512),                                                \n",
      "                                 (None, 128, 512)],                                               \n",
      "                                 'sequence_output':                                               \n",
      "                                 (None, 128, 512),                                                \n",
      "                                 'default': (None,                                                \n",
      "                                512),                                                             \n",
      "                                 'pooled_output': (                                               \n",
      "                                None, 512)}                                                       \n",
      "                                                                                                  \n",
      " dropout (Dropout)              (None, 512)          0           ['BERT_encoder[0][9]']           \n",
      "                                                                                                  \n",
      " classifier (Dense)             (None, 8)            4104        ['dropout[0][0]']                \n",
      "                                                                                                  \n",
      "==================================================================================================\n",
      "Total params: 41,377,289\n",
      "Trainable params: 41,377,288\n",
      "Non-trainable params: 1\n",
      "__________________________________________________________________________________________________\n"
     ]
    }
   ],
   "source": [
    "classifier_model.summary()"
   ]
  },
  {
   "cell_type": "markdown",
   "metadata": {
    "id": "WbUWoZMwc302"
   },
   "source": [
    "#### __Model training__\n",
    "\n",
    "You now have all the pieces to train a model, including the preprocessing module, BERT encoder, data, and classifier. Vertex AI Training can be used for parallelization, accelerated training, and hyperparameter tuning, however the \"baseline case\" of in-notebook training is provided below."
   ]
  },
  {
   "cell_type": "markdown",
   "metadata": {
    "id": "WpJ3xcwDT56v"
   },
   "source": [
    "Since this is a non-binary classification problem and the model outputs probabilities, you'll use `losses.CategoricalCrossentropy` loss function."
   ]
  },
  {
   "cell_type": "code",
   "execution_count": 20,
   "metadata": {
    "id": "OWPOZE-L3AgE",
    "tags": []
   },
   "outputs": [],
   "source": [
    "loss = tf.keras.losses.CategoricalCrossentropy(from_logits=True)\n",
    "metrics = tf.metrics.CategoricalAccuracy()"
   ]
  },
  {
   "cell_type": "markdown",
   "metadata": {
    "id": "SqlarlpC_v0g"
   },
   "source": [
    "#### __Loading the BERT model and training__\n",
    "\n",
    "Using the `classifier_model` you created earlier, you can compile the model with the loss, metric and optimizer."
   ]
  },
  {
   "cell_type": "code",
   "execution_count": 21,
   "metadata": {
    "id": "-7GPDhR98jsD",
    "tags": []
   },
   "outputs": [],
   "source": [
    "optimizer=tf.keras.optimizers.Adam(LEARNING_RATE)\n",
    "classifier_model.compile(\n",
    "    optimizer=optimizer,\n",
    "    loss=loss,\n",
    "    metrics=metrics\n",
    ")"
   ]
  },
  {
   "cell_type": "markdown",
   "metadata": {
    "id": "CpBuV5j2cS_b"
   },
   "source": [
    "Note: training time will vary depending on the complexity of the BERT model you have selected, the notebook environment compute/memory, and the availability of TPU/GPU accelerators.  Again, Vertex AI Training could be used to scale and distribute training."
   ]
  },
  {
   "cell_type": "code",
   "execution_count": 22,
   "metadata": {
    "id": "HtfDFAnN_Neu",
    "scrolled": true,
    "tags": []
   },
   "outputs": [
    {
     "name": "stdout",
     "output_type": "stream",
     "text": [
      "Training the transfer-learning model based on https://tfhub.dev/tensorflow/small_bert/bert_en_uncased_L-8_H-512_A-8/1\n",
      "Epoch 1/8\n",
      "11/11 [==============================] - 96s 8s/step - loss: 2.1831 - categorical_accuracy: 0.1354 - val_loss: 1.9841 - val_categorical_accuracy: 0.2805\n",
      "Epoch 2/8\n",
      "11/11 [==============================] - 81s 7s/step - loss: 1.8310 - categorical_accuracy: 0.3285 - val_loss: 1.7547 - val_categorical_accuracy: 0.4634\n",
      "Epoch 3/8\n",
      "11/11 [==============================] - 81s 7s/step - loss: 1.5643 - categorical_accuracy: 0.5533 - val_loss: 1.4916 - val_categorical_accuracy: 0.6463\n",
      "Epoch 4/8\n",
      "11/11 [==============================] - 81s 7s/step - loss: 1.2815 - categorical_accuracy: 0.7349 - val_loss: 1.1838 - val_categorical_accuracy: 0.7805\n",
      "Epoch 5/8\n",
      "11/11 [==============================] - 80s 7s/step - loss: 1.0152 - categorical_accuracy: 0.8444 - val_loss: 0.9169 - val_categorical_accuracy: 0.8537\n",
      "Epoch 6/8\n",
      "11/11 [==============================] - 81s 7s/step - loss: 0.7800 - categorical_accuracy: 0.9193 - val_loss: 0.7026 - val_categorical_accuracy: 0.8902\n",
      "Epoch 7/8\n",
      "11/11 [==============================] - 80s 7s/step - loss: 0.5785 - categorical_accuracy: 0.9280 - val_loss: 0.5540 - val_categorical_accuracy: 0.8780\n",
      "Epoch 8/8\n",
      "11/11 [==============================] - 80s 7s/step - loss: 0.4360 - categorical_accuracy: 0.9597 - val_loss: 0.4612 - val_categorical_accuracy: 0.8902\n"
     ]
    }
   ],
   "source": [
    "print(f'Training the transfer-learning model based on {tfhub_handle_encoder}')\n",
    "history = classifier_model.fit(\n",
    "    x=train_features,\n",
    "    y=train_labels,\n",
    "    validation_data=(valid_features,valid_labels),\n",
    "    batch_size=BATCH_SIZE,\n",
    "    epochs=EPOCHS\n",
    ")"
   ]
  },
  {
   "cell_type": "markdown",
   "metadata": {
    "id": "uBthMlTSV8kn"
   },
   "source": [
    "#### __Evaluate the model__\n",
    "\n",
    "Let's see how the model performs. Two values will be returned. Loss (a number which represents the error, lower values are better), and accuracy."
   ]
  },
  {
   "cell_type": "code",
   "execution_count": 23,
   "metadata": {
    "id": "slqB-urBV9sP",
    "tags": []
   },
   "outputs": [
    {
     "name": "stdout",
     "output_type": "stream",
     "text": [
      "3/3 [==============================] - 5s 2s/step - loss: 0.3591 - categorical_accuracy: 0.9146\n",
      "Loss: 0.35913094878196716\n",
      "Accuracy: 0.9146341681480408\n"
     ]
    }
   ],
   "source": [
    "loss, accuracy = classifier_model.evaluate(test_features, test_labels)\n",
    "\n",
    "print(f'Loss: {loss}')\n",
    "print(f'Accuracy: {accuracy}')"
   ]
  },
  {
   "cell_type": "markdown",
   "metadata": {
    "id": "uttWpgmSfzq9"
   },
   "source": [
    "#### __Plot the accuracy and loss over time__\n",
    "\n",
    "Based on the `History` object returned by `model.fit()`. You can plot the training and validation loss for comparison, as well as the training and validation accuracy:"
   ]
  },
  {
   "cell_type": "code",
   "execution_count": 24,
   "metadata": {
    "id": "fiythcODf0xo",
    "tags": []
   },
   "outputs": [
    {
     "data": {
      "text/plain": [
       "<matplotlib.legend.Legend at 0x7fe2b167c250>"
      ]
     },
     "execution_count": 24,
     "metadata": {},
     "output_type": "execute_result"
    },
    {
     "data": {
      "image/png": "[encoded data removed]",
      "text/plain": [
       "<Figure size 1000x800 with 2 Axes>"
      ]
     },
     "metadata": {},
     "output_type": "display_data"
    }
   ],
   "source": [
    "history_dict = history.history\n",
    "\n",
    "acc = history_dict['categorical_accuracy']\n",
    "val_acc = history_dict['val_categorical_accuracy']\n",
    "loss = history_dict['loss']\n",
    "val_loss = history_dict['val_loss']\n",
    "\n",
    "epochs = range(1, len(acc) + 1)\n",
    "fig = plt.figure(figsize=(10, 8))\n",
    "fig.tight_layout()\n",
    "\n",
    "plt.subplot(2, 1, 1)\n",
    "# \"bo\" is for \"blue dot\"\n",
    "plt.plot(epochs, loss, 'r', label='Training loss')\n",
    "# b is for \"solid blue line\"\n",
    "plt.plot(epochs, val_loss, 'b', label='Validation loss')\n",
    "plt.title('Training and validation loss')\n",
    "plt.grid(True)\n",
    "# plt.xlabel('Epochs')\n",
    "plt.ylabel('Loss')\n",
    "plt.legend()\n",
    "\n",
    "plt.subplot(2, 1, 2)\n",
    "plt.plot(epochs, acc, 'r', label='Training acc')\n",
    "plt.plot(epochs, val_acc, 'b', label='Validation acc')\n",
    "plt.title('Training and validation accuracy')\n",
    "plt.grid(True)\n",
    "plt.xlabel('Epochs')\n",
    "plt.ylabel('Accuracy')\n",
    "plt.legend(loc='lower right')"
   ]
  },
  {
   "cell_type": "markdown",
   "metadata": {
    "id": "WzJZCo-cf-Jf"
   },
   "source": [
    "In this plot, the red lines represents the training loss and accuracy, and the blue lines are the validation loss and accuracy."
   ]
  },
  {
   "cell_type": "markdown",
   "metadata": {
    "id": "oyTappHTvNCz"
   },
   "source": [
    "Classifying arbitrary instructions:"
   ]
  },
  {
   "cell_type": "code",
   "execution_count": 25,
   "metadata": {
    "id": "VBWzH6exlCPS",
    "tags": []
   },
   "outputs": [
    {
     "name": "stdout",
     "output_type": "stream",
     "text": [
      "input: Hey can I please see the documentation : estimated intent: documentation\n",
      "input: Could use some help with a cron job : estimated intent: destroy cron\n",
      "input: How do I deprovision you on the weekends : estimated intent: destroy cron\n",
      "input: I have a big issue with that response. : estimated intent: report issue\n",
      "input: How can I scale your microservices to be more cost-effective? : estimated intent: self scale\n",
      "\n"
     ]
    }
   ],
   "source": [
    "def print_my_examples(inputs, results):\n",
    "    result_for_printing = \\\n",
    "        [f'input: {inputs[i]:<30} : estimated intent: {results[i]}'\n",
    "        for i in range(len(inputs))]\n",
    "    print(*result_for_printing, sep='\\n')\n",
    "    print()\n",
    "\n",
    "examples = [\n",
    "    'Hey can I please see the documentation',\n",
    "    'Could use some help with a cron job',\n",
    "    'How do I deprovision you on the weekends',\n",
    "    'I have a big issue with that response.',\n",
    "    'How can I scale your microservices to be more cost-effective?'\n",
    "]\n",
    "\n",
    "results = tf.nn.softmax(classifier_model(tf.constant(examples)))\n",
    "intents = binarizer.inverse_transform(results.numpy())\n",
    "print_my_examples(examples, intents)"
   ]
  },
  {
   "cell_type": "markdown",
   "metadata": {},
   "source": [
    "#### __Save the model__"
   ]
  },
  {
   "cell_type": "code",
   "execution_count": 26,
   "metadata": {},
   "outputs": [
    {
     "name": "stderr",
     "output_type": "stream",
     "text": [
      "2023-01-17 23:02:42.986410: W tensorflow/python/util/util.cc:368] Sets are not currently considered sequences, but this may change in the future, so consider avoiding using them.\n",
      "WARNING:absl:Found untraced functions such as restored_function_body, restored_function_body, restored_function_body, restored_function_body, restored_function_body while saving (showing 5 of 244). These functions will not be directly callable after loading.\n"
     ]
    }
   ],
   "source": [
    "classifier_model.save('service/model')"
   ]
  },
  {
   "cell_type": "markdown",
   "metadata": {},
   "source": [
    "We have taken a \"DIY\" and notebook-centric approach to data preparation, model definition, and training.  Continuing this approach would involve engineering \"taking over\" at this point, for versioning and productionalization.  However, we can take a more platformized approach with incremental additions of Vertex AI (initially, just for metadata, then for more)."
   ]
  },
  {
   "cell_type": "markdown",
   "metadata": {},
   "source": [
    "## Adding the custom model to Vertex AI"
   ]
  },
  {
   "cell_type": "code",
   "execution_count": 27,
   "metadata": {},
   "outputs": [],
   "source": [
    "from google.cloud import aiplatform\n",
    "from google.cloud import storage\n",
    "\n",
    "# Vertex AI initialization\n",
    "aiplatform.init(\n",
    "    project=GCP_PROJECT,\n",
    "    location=GCP_REGION,\n",
    "    experiment=EXPERIMENT_NAME,\n",
    ")"
   ]
  },
  {
   "cell_type": "markdown",
   "metadata": {},
   "source": [
    "#### __Create an experiment run for the custom model__"
   ]
  },
  {
   "cell_type": "code",
   "execution_count": 28,
   "metadata": {},
   "outputs": [
    {
     "name": "stdout",
     "output_type": "stream",
     "text": [
      "Associating projects/12345678910/locations/us-central1/metadataStores/default/contexts/isidro-intents-compare-custom-automl-bqml-run-custom-r1 to Experiment: isidro-intents-compare-custom-automl-bqml\n"
     ]
    },
    {
     "name": "stderr",
     "output_type": "stream",
     "text": [
      "INFO:google.cloud.aiplatform.metadata.experiment_resources:Associating projects/12345678910/locations/us-central1/metadataStores/default/contexts/isidro-intents-compare-custom-automl-bqml-run-custom-r1 to Experiment: isidro-intents-compare-custom-automl-bqml\n"
     ]
    },
    {
     "data": {
      "text/plain": [
       "<google.cloud.aiplatform.metadata.experiment_run_resource.ExperimentRun at 0x7fe2ac1b6d90>"
      ]
     },
     "execution_count": 28,
     "metadata": {},
     "output_type": "execute_result"
    }
   ],
   "source": [
    "# Start an experiment run (used to compare against other models like BQML and AutoML)\n",
    "aiplatform.start_run(f\"run-custom-{VERTEX_MODEL_ROUND}\")"
   ]
  },
  {
   "cell_type": "code",
   "execution_count": 29,
   "metadata": {},
   "outputs": [],
   "source": [
    "# Add experiment run parameters\n",
    "metaparams = {}\n",
    "metaparams[\"epochs\"] = EPOCHS\n",
    "metaparams[\"learning rate\"] = 1e-5\n",
    "metaparams[\"base model\"] = BERT_MODEL_NAME\n",
    "aiplatform.log_params(metaparams)\n",
    "\n",
    "# Add experiment run metrics\n",
    "metrics = {}\n",
    "metrics[\"cross-entropy loss\"] = history_dict[\"val_loss\"][-1]\n",
    "metrics[\"categorical accuracy\"] = history_dict[\"val_categorical_accuracy\"][-1]\n",
    "aiplatform.log_metrics(metrics)"
   ]
  },
  {
   "cell_type": "code",
   "execution_count": 30,
   "metadata": {},
   "outputs": [],
   "source": [
    "from sklearn.metrics import confusion_matrix\n",
    "\n",
    "# Use test dataset to compile a confusion matrix\n",
    "test_copy = test_df.copy()\n",
    "test_labels = test_copy.pop(\"intent\")\n",
    "test_features = test_copy.values\n",
    "test_results = tf.nn.softmax(classifier_model(tf.constant(test_features)))\n",
    "test_results = binarizer.inverse_transform(test_results.numpy())\n",
    "\n",
    "labels = list(set(test_labels))\n",
    "y_true = list(test_labels)\n",
    "y_pred = list(test_results)\n",
    "\n",
    "classification_metrics = {\n",
    "    \"matrix\": confusion_matrix(y_true, y_pred, labels=labels).tolist(),\n",
    "    \"labels\": labels,\n",
    "}\n",
    "\n",
    "# Add the confusion matrix to the experiment run\n",
    "aiplatform.log_classification_metrics(\n",
    "    labels=classification_metrics[\"labels\"],\n",
    "    matrix=classification_metrics[\"matrix\"],\n",
    "    display_name=\"intents confusion matrix\",\n",
    ")"
   ]
  },
  {
   "cell_type": "code",
   "execution_count": 32,
   "metadata": {},
   "outputs": [
    {
     "name": "stdout",
     "output_type": "stream",
     "text": [
      "Creating Model\n"
     ]
    },
    {
     "name": "stderr",
     "output_type": "stream",
     "text": [
      "INFO:google.cloud.aiplatform.models:Creating Model\n"
     ]
    },
    {
     "name": "stdout",
     "output_type": "stream",
     "text": [
      "Create Model backing LRO: projects/12345678910/locations/us-central1/models/1240990186968449024/operations/8960009109030043648\n"
     ]
    },
    {
     "name": "stderr",
     "output_type": "stream",
     "text": [
      "INFO:google.cloud.aiplatform.models:Create Model backing LRO: projects/12345678910/locations/us-central1/models/1240990186968449024/operations/8960009109030043648\n"
     ]
    },
    {
     "name": "stdout",
     "output_type": "stream",
     "text": [
      "Model created. Resource name: projects/12345678910/locations/us-central1/models/1240990186968449024@1\n"
     ]
    },
    {
     "name": "stderr",
     "output_type": "stream",
     "text": [
      "INFO:google.cloud.aiplatform.models:Model created. Resource name: projects/12345678910/locations/us-central1/models/1240990186968449024@1\n"
     ]
    },
    {
     "name": "stdout",
     "output_type": "stream",
     "text": [
      "To use this Model in another session:\n"
     ]
    },
    {
     "name": "stderr",
     "output_type": "stream",
     "text": [
      "INFO:google.cloud.aiplatform.models:To use this Model in another session:\n"
     ]
    },
    {
     "name": "stdout",
     "output_type": "stream",
     "text": [
      "model = aiplatform.Model('projects/12345678910/locations/us-central1/models/1240990186968449024@1')\n"
     ]
    },
    {
     "name": "stderr",
     "output_type": "stream",
     "text": [
      "INFO:google.cloud.aiplatform.models:model = aiplatform.Model('projects/12345678910/locations/us-central1/models/1240990186968449024@1')\n"
     ]
    }
   ],
   "source": [
    "# Tie the dataset to the model training and experiment run\n",
    "storage_client = storage.Client()\n",
    "bucket = storage_client.bucket(GCP_BUCKET)\n",
    "blob = bucket.blob(f\"custom-{VERTEX_MODEL_ROUND}/{DATA_FILE}\")\n",
    "blob.upload_from_filename(DATA_FILE)  # raw data\n",
    "\n",
    "training_data_artifact = aiplatform.Artifact.create(\n",
    "    schema_title='system.Dataset',\n",
    "    uri=f'gs://{GCP_BUCKET}/custom-{VERTEX_MODEL_ROUND}/{DATA_FILE}',\n",
    "    display_name='labeled intents data'\n",
    ")\n",
    "\n",
    "with aiplatform.start_execution(\n",
    "    schema_title=\"system.ContainerExecution\", \n",
    "    display_name='training'\n",
    ") as execution:\n",
    "        execution.assign_input_artifacts([training_data_artifact])\n",
    "\n",
    "        # Upload the model to GCS\n",
    "        storage_client = storage.Client()\n",
    "        bucket = storage_client.bucket(GCP_BUCKET)\n",
    "        for model_file in [\n",
    "            \"saved_model.pb\",\n",
    "            \"keras_metadata.pb\",\n",
    "            \"assets/vocab.txt\",\n",
    "            \"variables/variables.index\",\n",
    "            \"variables/variables.data-00000-of-00001\"\n",
    "        ]:\n",
    "            blob = bucket.blob(f\"custom-{VERTEX_MODEL_ROUND}/{model_file}\")\n",
    "            blob.upload_from_filename(\"service/model/\" + model_file)\n",
    "\n",
    "        # Create a model in the registry\n",
    "        model = aiplatform.Model.upload(\n",
    "            display_name=f\"{VERTEX_MODEL_NAME_PREFIX}_custom\",\n",
    "            artifact_uri=f\"gs://{GCP_BUCKET}/custom-{VERTEX_MODEL_ROUND}\",\n",
    "            description=VERTEX_MODEL_DESCRIPTION,\n",
    "            serving_container_image_uri=\"us-docker.pkg.dev/vertex-ai/prediction/tf2-cpu.2-8:latest\"\n",
    "        )\n",
    "\n",
    "        model.wait()\n",
    "\n",
    "        execution.assign_output_artifacts([model])"
   ]
  },
  {
   "cell_type": "code",
   "execution_count": 33,
   "metadata": {},
   "outputs": [],
   "source": [
    "aiplatform.end_run()"
   ]
  },
  {
   "cell_type": "markdown",
   "metadata": {},
   "source": [
    "## Create an experiment run using BQML"
   ]
  },
  {
   "cell_type": "markdown",
   "metadata": {},
   "source": [
    "Typically, you'd just run a few lines of SQL code in the BigQuery SQL Workspace, but using the Python SDK here for consistency sake"
   ]
  },
  {
   "cell_type": "code",
   "execution_count": 34,
   "metadata": {},
   "outputs": [
    {
     "name": "stdout",
     "output_type": "stream",
     "text": [
      "Associating projects/12345678910/locations/us-central1/metadataStores/default/contexts/isidro-intents-compare-custom-automl-bqml-run-bqml-r1 to Experiment: isidro-intents-compare-custom-automl-bqml\n"
     ]
    },
    {
     "name": "stderr",
     "output_type": "stream",
     "text": [
      "INFO:google.cloud.aiplatform.metadata.experiment_resources:Associating projects/12345678910/locations/us-central1/metadataStores/default/contexts/isidro-intents-compare-custom-automl-bqml-run-bqml-r1 to Experiment: isidro-intents-compare-custom-automl-bqml\n"
     ]
    },
    {
     "data": {
      "text/plain": [
       "<google.cloud.aiplatform.metadata.experiment_run_resource.ExperimentRun at 0x7fe2ac031ed0>"
      ]
     },
     "execution_count": 34,
     "metadata": {},
     "output_type": "execute_result"
    }
   ],
   "source": [
    "aiplatform.start_run(f\"run-bqml-{VERTEX_MODEL_ROUND}\")"
   ]
  },
  {
   "cell_type": "code",
   "execution_count": 35,
   "metadata": {},
   "outputs": [],
   "source": [
    "# Upload training data to GCS\n",
    "storage_client = storage.Client()\n",
    "bucket = storage_client.bucket(GCP_BUCKET)\n",
    "blob = bucket.blob(f\"bqml-{VERTEX_MODEL_ROUND}/{DATA_FILE}\")\n",
    "blob.upload_from_filename(DATA_FILE)  # raw data"
   ]
  },
  {
   "cell_type": "code",
   "execution_count": 36,
   "metadata": {},
   "outputs": [
    {
     "name": "stdout",
     "output_type": "stream",
     "text": [
      "Dataset already exists - choose a new name if the dataset is not under your control\n",
      "Loaded 511 rows.\n"
     ]
    }
   ],
   "source": [
    "from google.cloud import bigquery\n",
    "\n",
    "client = bigquery.Client()\n",
    "\n",
    "# Create the BigQuery dataset\n",
    "dataset_id = f\"{GCP_PROJECT}.{BQ_DATASET}\"\n",
    "table_id = f\"{GCP_PROJECT}.{BQ_DATASET}.raw_data\"\n",
    "dataset = bigquery.Dataset(dataset_id)\n",
    "dataset.location = \"US\"\n",
    "try:\n",
    "    dataset = client.create_dataset(dataset, timeout=30)  # Make an API request.\n",
    "    print(\"Created dataset {}.{}\".format(client.project, dataset.dataset_id))\n",
    "except exceptions.Conflict:\n",
    "    print(\"Dataset already exists - choose a new name if the dataset is not under your control\")\n",
    "    pass\n",
    "\n",
    "# Import data to the BigQuery dataset\n",
    "job_config = bigquery.LoadJobConfig(\n",
    "    schema=[\n",
    "        bigquery.SchemaField(\"text\", \"STRING\"),\n",
    "        bigquery.SchemaField(\"intent\", \"STRING\"),\n",
    "    ],\n",
    "    skip_leading_rows=1,\n",
    "    # The source format defaults to CSV, so the line below is optional.\n",
    "    source_format=bigquery.SourceFormat.CSV,\n",
    ")\n",
    "uri = f\"gs://{GCP_BUCKET}/bqml-{VERTEX_MODEL_ROUND}/{DATA_FILE}\"\n",
    "load_job = client.load_table_from_uri(\n",
    "    uri, table_id, job_config=job_config\n",
    ")  # Make an API request.\n",
    "load_job.result()  # Waits for the job to complete.\n",
    "\n",
    "# Confirm the loaded data\n",
    "destination_table = client.get_table(table_id)  # Make an API request.\n",
    "print(\"Loaded {} rows.\".format(destination_table.num_rows))"
   ]
  },
  {
   "cell_type": "code",
   "execution_count": 37,
   "metadata": {},
   "outputs": [
    {
     "data": {
      "text/plain": [
       "<google.cloud.bigquery.table._EmptyRowIterator at 0x7fe2ac16d290>"
      ]
     },
     "execution_count": 37,
     "metadata": {},
     "output_type": "execute_result"
    }
   ],
   "source": [
    "# Create the BQML model\n",
    "MODEL_QUERY = f\"\"\"\n",
    "CREATE OR REPLACE MODEL\n",
    "  `{BQ_DATASET}.{VERTEX_MODEL_NAME_PREFIX}_bqml`\n",
    "OPTIONS\n",
    "  (\n",
    "    model_type='LOGISTIC_REG',\n",
    "    auto_class_weights=TRUE,\n",
    "    data_split_method='RANDOM',\n",
    "    data_split_eval_fraction = .10,\n",
    "    input_label_cols=['intent'],\n",
    "    model_registry='vertex_ai'\n",
    "  ) AS\n",
    "SELECT \n",
    "  ML.NGRAMS(intents.words_array, [1,2]) as ngrams, \n",
    "  intents.intent\n",
    "FROM  (\n",
    "  SELECT \n",
    "    REGEXP_EXTRACT_ALL(LOWER(raw.text), '[a-z]+') as words_array,\n",
    "    raw.intent\n",
    "  FROM `{BQ_DATASET}.raw_data` raw\n",
    ") intents\n",
    "\"\"\"\n",
    "job = client.query(MODEL_QUERY)\n",
    "job.result()"
   ]
  },
  {
   "cell_type": "code",
   "execution_count": 38,
   "metadata": {},
   "outputs": [],
   "source": [
    "# Evaluate the BQML model\n",
    "EVALUATE_QUERY = f\"\"\"\n",
    "SELECT accuracy, log_loss FROM ML.EVALUATE(MODEL `{BQ_DATASET}.{VERTEX_MODEL_NAME_PREFIX}_bqml`)\n",
    "\"\"\"\n",
    "job = client.query(EVALUATE_QUERY)\n",
    "rows = job.result()\n",
    "results = next(rows)\n",
    "\n",
    "# Experiment run parameters\n",
    "metaparams = {}\n",
    "metaparams[\"epochs\"] = \"N/A\"\n",
    "metaparams[\"learning rate\"] = \"N/A\"\n",
    "metaparams[\"base model\"] = \"N/A\"\n",
    "aiplatform.log_params(metaparams)\n",
    "\n",
    "# Experiment run metrics\n",
    "metrics = {}\n",
    "metrics[\"cross-entropy loss\"] = results.log_loss\n",
    "metrics[\"categorical accuracy\"] = results.accuracy\n",
    "aiplatform.log_metrics(metrics)"
   ]
  },
  {
   "cell_type": "code",
   "execution_count": 40,
   "metadata": {},
   "outputs": [],
   "source": [
    "# Add the model to the experiment run\n",
    "with aiplatform.start_execution(\n",
    "    schema_title=\"system.ContainerExecution\", \n",
    "    display_name='training'\n",
    ") as execution:\n",
    "    execution.assign_output_artifacts([aiplatform.Model(model_name=f\"{VERTEX_MODEL_NAME_PREFIX}_bqml\")])"
   ]
  },
  {
   "cell_type": "code",
   "execution_count": 41,
   "metadata": {},
   "outputs": [],
   "source": [
    "aiplatform.end_run()"
   ]
  },
  {
   "cell_type": "markdown",
   "metadata": {},
   "source": [
    "## Create an experiment run using AutoML"
   ]
  },
  {
   "cell_type": "markdown",
   "metadata": {},
   "source": [
    "Part of the value of AutoML is that it's no-code.  The Python below is only for consistency sake (consider other mechanisms like the Cloud Console GUI for easier setup)."
   ]
  },
  {
   "cell_type": "code",
   "execution_count": 42,
   "metadata": {},
   "outputs": [
    {
     "name": "stdout",
     "output_type": "stream",
     "text": [
      "Associating projects/12345678910/locations/us-central1/metadataStores/default/contexts/isidro-intents-compare-custom-automl-bqml-run-automl-r1 to Experiment: isidro-intents-compare-custom-automl-bqml\n"
     ]
    },
    {
     "name": "stderr",
     "output_type": "stream",
     "text": [
      "INFO:google.cloud.aiplatform.metadata.experiment_resources:Associating projects/12345678910/locations/us-central1/metadataStores/default/contexts/isidro-intents-compare-custom-automl-bqml-run-automl-r1 to Experiment: isidro-intents-compare-custom-automl-bqml\n"
     ]
    },
    {
     "data": {
      "text/plain": [
       "<google.cloud.aiplatform.metadata.experiment_run_resource.ExperimentRun at 0x7fe2ac0e2c10>"
      ]
     },
     "execution_count": 42,
     "metadata": {},
     "output_type": "execute_result"
    }
   ],
   "source": [
    "aiplatform.start_run(f\"run-automl-{VERTEX_MODEL_ROUND}\")"
   ]
  },
  {
   "cell_type": "code",
   "execution_count": 43,
   "metadata": {},
   "outputs": [],
   "source": [
    "# Remove the headers from the CSV file\n",
    "headerless_data = \"\"\n",
    "with open(DATA_FILE, 'r') as data_file:\n",
    "    next(data_file)  # Skip the header row\n",
    "    for line in data_file:\n",
    "        headerless_data += line\n",
    "\n",
    "# Upload data and schema to GCS\n",
    "storage_client = storage.Client()\n",
    "bucket = storage_client.bucket(GCP_BUCKET)\n",
    "bucket.blob(f\"automl-{VERTEX_MODEL_ROUND}/headerless-{DATA_FILE}\").upload_from_string(headerless_data, 'text/csv')"
   ]
  },
  {
   "cell_type": "code",
   "execution_count": 44,
   "metadata": {},
   "outputs": [
    {
     "name": "stdout",
     "output_type": "stream",
     "text": [
      "Creating TextDataset\n"
     ]
    },
    {
     "name": "stderr",
     "output_type": "stream",
     "text": [
      "INFO:google.cloud.aiplatform.datasets.dataset:Creating TextDataset\n"
     ]
    },
    {
     "name": "stdout",
     "output_type": "stream",
     "text": [
      "Create TextDataset backing LRO: projects/12345678910/locations/us-central1/datasets/7477763187341787136/operations/8187641772936003584\n"
     ]
    },
    {
     "name": "stderr",
     "output_type": "stream",
     "text": [
      "INFO:google.cloud.aiplatform.datasets.dataset:Create TextDataset backing LRO: projects/12345678910/locations/us-central1/datasets/7477763187341787136/operations/8187641772936003584\n"
     ]
    },
    {
     "name": "stdout",
     "output_type": "stream",
     "text": [
      "TextDataset created. Resource name: projects/12345678910/locations/us-central1/datasets/7477763187341787136\n"
     ]
    },
    {
     "name": "stderr",
     "output_type": "stream",
     "text": [
      "INFO:google.cloud.aiplatform.datasets.dataset:TextDataset created. Resource name: projects/12345678910/locations/us-central1/datasets/7477763187341787136\n"
     ]
    },
    {
     "name": "stdout",
     "output_type": "stream",
     "text": [
      "To use this TextDataset in another session:\n"
     ]
    },
    {
     "name": "stderr",
     "output_type": "stream",
     "text": [
      "INFO:google.cloud.aiplatform.datasets.dataset:To use this TextDataset in another session:\n"
     ]
    },
    {
     "name": "stdout",
     "output_type": "stream",
     "text": [
      "ds = aiplatform.TextDataset('projects/12345678910/locations/us-central1/datasets/7477763187341787136')\n"
     ]
    },
    {
     "name": "stderr",
     "output_type": "stream",
     "text": [
      "INFO:google.cloud.aiplatform.datasets.dataset:ds = aiplatform.TextDataset('projects/12345678910/locations/us-central1/datasets/7477763187341787136')\n"
     ]
    },
    {
     "name": "stdout",
     "output_type": "stream",
     "text": [
      "Importing TextDataset data: projects/12345678910/locations/us-central1/datasets/7477763187341787136\n"
     ]
    },
    {
     "name": "stderr",
     "output_type": "stream",
     "text": [
      "INFO:google.cloud.aiplatform.datasets.dataset:Importing TextDataset data: projects/12345678910/locations/us-central1/datasets/7477763187341787136\n"
     ]
    },
    {
     "name": "stdout",
     "output_type": "stream",
     "text": [
      "Import TextDataset data backing LRO: projects/12345678910/locations/us-central1/datasets/7477763187341787136/operations/2267660062757486592\n"
     ]
    },
    {
     "name": "stderr",
     "output_type": "stream",
     "text": [
      "INFO:google.cloud.aiplatform.datasets.dataset:Import TextDataset data backing LRO: projects/12345678910/locations/us-central1/datasets/7477763187341787136/operations/2267660062757486592\n"
     ]
    },
    {
     "name": "stdout",
     "output_type": "stream",
     "text": [
      "TextDataset data imported. Resource name: projects/12345678910/locations/us-central1/datasets/7477763187341787136\n"
     ]
    },
    {
     "name": "stderr",
     "output_type": "stream",
     "text": [
      "INFO:google.cloud.aiplatform.datasets.dataset:TextDataset data imported. Resource name: projects/12345678910/locations/us-central1/datasets/7477763187341787136\n"
     ]
    },
    {
     "name": "stdout",
     "output_type": "stream",
     "text": [
      "View Training:\n",
      "https://console.cloud.google.com/ai/platform/locations/us-central1/training/7351014922865606656?project=12345678910\n"
     ]
    },
    {
     "name": "stderr",
     "output_type": "stream",
     "text": [
      "INFO:google.cloud.aiplatform.training_jobs:View Training:\n",
      "https://console.cloud.google.com/ai/platform/locations/us-central1/training/7351014922865606656?project=12345678910\n"
     ]
    },
    {
     "name": "stdout",
     "output_type": "stream",
     "text": [
      "AutoMLTextTrainingJob projects/12345678910/locations/us-central1/trainingPipelines/7351014922865606656 current state:\n",
      "PipelineState.PIPELINE_STATE_RUNNING\n"
     ]
    },
    {
     "name": "stderr",
     "output_type": "stream",
     "text": [
      "INFO:google.cloud.aiplatform.training_jobs:AutoMLTextTrainingJob projects/12345678910/locations/us-central1/trainingPipelines/7351014922865606656 current state:\n",
      "PipelineState.PIPELINE_STATE_RUNNING\n"
     ]
    },
    {
     "name": "stdout",
     "output_type": "stream",
     "text": [
      "AutoMLTextTrainingJob projects/12345678910/locations/us-central1/trainingPipelines/7351014922865606656 current state:\n",
      "PipelineState.PIPELINE_STATE_RUNNING\n"
     ]
    },
    {
     "name": "stderr",
     "output_type": "stream",
     "text": [
      "INFO:google.cloud.aiplatform.training_jobs:AutoMLTextTrainingJob projects/12345678910/locations/us-central1/trainingPipelines/7351014922865606656 current state:\n",
      "PipelineState.PIPELINE_STATE_RUNNING\n"
     ]
    },
    {
     "name": "stdout",
     "output_type": "stream",
     "text": [
      "AutoMLTextTrainingJob projects/12345678910/locations/us-central1/trainingPipelines/7351014922865606656 current state:\n",
      "PipelineState.PIPELINE_STATE_RUNNING\n"
     ]
    },
    {
     "name": "stderr",
     "output_type": "stream",
     "text": [
      "INFO:google.cloud.aiplatform.training_jobs:AutoMLTextTrainingJob projects/12345678910/locations/us-central1/trainingPipelines/7351014922865606656 current state:\n",
      "PipelineState.PIPELINE_STATE_RUNNING\n"
     ]
    },
    {
     "name": "stdout",
     "output_type": "stream",
     "text": [
      "AutoMLTextTrainingJob projects/12345678910/locations/us-central1/trainingPipelines/7351014922865606656 current state:\n",
      "PipelineState.PIPELINE_STATE_RUNNING\n"
     ]
    },
    {
     "name": "stderr",
     "output_type": "stream",
     "text": [
      "INFO:google.cloud.aiplatform.training_jobs:AutoMLTextTrainingJob projects/12345678910/locations/us-central1/trainingPipelines/7351014922865606656 current state:\n",
      "PipelineState.PIPELINE_STATE_RUNNING\n"
     ]
    },
    {
     "name": "stdout",
     "output_type": "stream",
     "text": [
      "AutoMLTextTrainingJob projects/12345678910/locations/us-central1/trainingPipelines/7351014922865606656 current state:\n",
      "PipelineState.PIPELINE_STATE_RUNNING\n"
     ]
    },
    {
     "name": "stderr",
     "output_type": "stream",
     "text": [
      "INFO:google.cloud.aiplatform.training_jobs:AutoMLTextTrainingJob projects/12345678910/locations/us-central1/trainingPipelines/7351014922865606656 current state:\n",
      "PipelineState.PIPELINE_STATE_RUNNING\n"
     ]
    },
    {
     "name": "stdout",
     "output_type": "stream",
     "text": [
      "AutoMLTextTrainingJob projects/12345678910/locations/us-central1/trainingPipelines/7351014922865606656 current state:\n",
      "PipelineState.PIPELINE_STATE_RUNNING\n"
     ]
    },
    {
     "name": "stderr",
     "output_type": "stream",
     "text": [
      "INFO:google.cloud.aiplatform.training_jobs:AutoMLTextTrainingJob projects/12345678910/locations/us-central1/trainingPipelines/7351014922865606656 current state:\n",
      "PipelineState.PIPELINE_STATE_RUNNING\n"
     ]
    },
    {
     "name": "stdout",
     "output_type": "stream",
     "text": [
      "AutoMLTextTrainingJob projects/12345678910/locations/us-central1/trainingPipelines/7351014922865606656 current state:\n",
      "PipelineState.PIPELINE_STATE_RUNNING\n"
     ]
    },
    {
     "name": "stderr",
     "output_type": "stream",
     "text": [
      "INFO:google.cloud.aiplatform.training_jobs:AutoMLTextTrainingJob projects/12345678910/locations/us-central1/trainingPipelines/7351014922865606656 current state:\n",
      "PipelineState.PIPELINE_STATE_RUNNING\n"
     ]
    },
    {
     "name": "stdout",
     "output_type": "stream",
     "text": [
      "AutoMLTextTrainingJob projects/12345678910/locations/us-central1/trainingPipelines/7351014922865606656 current state:\n",
      "PipelineState.PIPELINE_STATE_RUNNING\n"
     ]
    },
    {
     "name": "stderr",
     "output_type": "stream",
     "text": [
      "INFO:google.cloud.aiplatform.training_jobs:AutoMLTextTrainingJob projects/12345678910/locations/us-central1/trainingPipelines/7351014922865606656 current state:\n",
      "PipelineState.PIPELINE_STATE_RUNNING\n"
     ]
    },
    {
     "name": "stdout",
     "output_type": "stream",
     "text": [
      "AutoMLTextTrainingJob projects/12345678910/locations/us-central1/trainingPipelines/7351014922865606656 current state:\n",
      "PipelineState.PIPELINE_STATE_RUNNING\n"
     ]
    },
    {
     "name": "stderr",
     "output_type": "stream",
     "text": [
      "INFO:google.cloud.aiplatform.training_jobs:AutoMLTextTrainingJob projects/12345678910/locations/us-central1/trainingPipelines/7351014922865606656 current state:\n",
      "PipelineState.PIPELINE_STATE_RUNNING\n"
     ]
    },
    {
     "name": "stdout",
     "output_type": "stream",
     "text": [
      "AutoMLTextTrainingJob projects/12345678910/locations/us-central1/trainingPipelines/7351014922865606656 current state:\n",
      "PipelineState.PIPELINE_STATE_RUNNING\n"
     ]
    },
    {
     "name": "stderr",
     "output_type": "stream",
     "text": [
      "INFO:google.cloud.aiplatform.training_jobs:AutoMLTextTrainingJob projects/12345678910/locations/us-central1/trainingPipelines/7351014922865606656 current state:\n",
      "PipelineState.PIPELINE_STATE_RUNNING\n"
     ]
    },
    {
     "name": "stdout",
     "output_type": "stream",
     "text": [
      "AutoMLTextTrainingJob projects/12345678910/locations/us-central1/trainingPipelines/7351014922865606656 current state:\n",
      "PipelineState.PIPELINE_STATE_RUNNING\n"
     ]
    },
    {
     "name": "stderr",
     "output_type": "stream",
     "text": [
      "INFO:google.cloud.aiplatform.training_jobs:AutoMLTextTrainingJob projects/12345678910/locations/us-central1/trainingPipelines/7351014922865606656 current state:\n",
      "PipelineState.PIPELINE_STATE_RUNNING\n"
     ]
    },
    {
     "name": "stdout",
     "output_type": "stream",
     "text": [
      "AutoMLTextTrainingJob projects/12345678910/locations/us-central1/trainingPipelines/7351014922865606656 current state:\n",
      "PipelineState.PIPELINE_STATE_RUNNING\n"
     ]
    },
    {
     "name": "stderr",
     "output_type": "stream",
     "text": [
      "INFO:google.cloud.aiplatform.training_jobs:AutoMLTextTrainingJob projects/12345678910/locations/us-central1/trainingPipelines/7351014922865606656 current state:\n",
      "PipelineState.PIPELINE_STATE_RUNNING\n"
     ]
    },
    {
     "name": "stdout",
     "output_type": "stream",
     "text": [
      "AutoMLTextTrainingJob projects/12345678910/locations/us-central1/trainingPipelines/7351014922865606656 current state:\n",
      "PipelineState.PIPELINE_STATE_RUNNING\n"
     ]
    },
    {
     "name": "stderr",
     "output_type": "stream",
     "text": [
      "INFO:google.cloud.aiplatform.training_jobs:AutoMLTextTrainingJob projects/12345678910/locations/us-central1/trainingPipelines/7351014922865606656 current state:\n",
      "PipelineState.PIPELINE_STATE_RUNNING\n"
     ]
    },
    {
     "name": "stdout",
     "output_type": "stream",
     "text": [
      "AutoMLTextTrainingJob projects/12345678910/locations/us-central1/trainingPipelines/7351014922865606656 current state:\n",
      "PipelineState.PIPELINE_STATE_RUNNING\n"
     ]
    },
    {
     "name": "stderr",
     "output_type": "stream",
     "text": [
      "INFO:google.cloud.aiplatform.training_jobs:AutoMLTextTrainingJob projects/12345678910/locations/us-central1/trainingPipelines/7351014922865606656 current state:\n",
      "PipelineState.PIPELINE_STATE_RUNNING\n"
     ]
    },
    {
     "name": "stdout",
     "output_type": "stream",
     "text": [
      "AutoMLTextTrainingJob projects/12345678910/locations/us-central1/trainingPipelines/7351014922865606656 current state:\n",
      "PipelineState.PIPELINE_STATE_RUNNING\n"
     ]
    },
    {
     "name": "stderr",
     "output_type": "stream",
     "text": [
      "INFO:google.cloud.aiplatform.training_jobs:AutoMLTextTrainingJob projects/12345678910/locations/us-central1/trainingPipelines/7351014922865606656 current state:\n",
      "PipelineState.PIPELINE_STATE_RUNNING\n"
     ]
    },
    {
     "name": "stdout",
     "output_type": "stream",
     "text": [
      "AutoMLTextTrainingJob projects/12345678910/locations/us-central1/trainingPipelines/7351014922865606656 current state:\n",
      "PipelineState.PIPELINE_STATE_RUNNING\n"
     ]
    },
    {
     "name": "stderr",
     "output_type": "stream",
     "text": [
      "INFO:google.cloud.aiplatform.training_jobs:AutoMLTextTrainingJob projects/12345678910/locations/us-central1/trainingPipelines/7351014922865606656 current state:\n",
      "PipelineState.PIPELINE_STATE_RUNNING\n"
     ]
    },
    {
     "name": "stdout",
     "output_type": "stream",
     "text": [
      "AutoMLTextTrainingJob projects/12345678910/locations/us-central1/trainingPipelines/7351014922865606656 current state:\n",
      "PipelineState.PIPELINE_STATE_RUNNING\n"
     ]
    },
    {
     "name": "stderr",
     "output_type": "stream",
     "text": [
      "INFO:google.cloud.aiplatform.training_jobs:AutoMLTextTrainingJob projects/12345678910/locations/us-central1/trainingPipelines/7351014922865606656 current state:\n",
      "PipelineState.PIPELINE_STATE_RUNNING\n"
     ]
    },
    {
     "name": "stdout",
     "output_type": "stream",
     "text": [
      "AutoMLTextTrainingJob projects/12345678910/locations/us-central1/trainingPipelines/7351014922865606656 current state:\n",
      "PipelineState.PIPELINE_STATE_RUNNING\n"
     ]
    },
    {
     "name": "stderr",
     "output_type": "stream",
     "text": [
      "INFO:google.cloud.aiplatform.training_jobs:AutoMLTextTrainingJob projects/12345678910/locations/us-central1/trainingPipelines/7351014922865606656 current state:\n",
      "PipelineState.PIPELINE_STATE_RUNNING\n"
     ]
    },
    {
     "name": "stdout",
     "output_type": "stream",
     "text": [
      "AutoMLTextTrainingJob projects/12345678910/locations/us-central1/trainingPipelines/7351014922865606656 current state:\n",
      "PipelineState.PIPELINE_STATE_RUNNING\n"
     ]
    },
    {
     "name": "stderr",
     "output_type": "stream",
     "text": [
      "INFO:google.cloud.aiplatform.training_jobs:AutoMLTextTrainingJob projects/12345678910/locations/us-central1/trainingPipelines/7351014922865606656 current state:\n",
      "PipelineState.PIPELINE_STATE_RUNNING\n"
     ]
    },
    {
     "name": "stdout",
     "output_type": "stream",
     "text": [
      "AutoMLTextTrainingJob projects/12345678910/locations/us-central1/trainingPipelines/7351014922865606656 current state:\n",
      "PipelineState.PIPELINE_STATE_RUNNING\n"
     ]
    },
    {
     "name": "stderr",
     "output_type": "stream",
     "text": [
      "INFO:google.cloud.aiplatform.training_jobs:AutoMLTextTrainingJob projects/12345678910/locations/us-central1/trainingPipelines/7351014922865606656 current state:\n",
      "PipelineState.PIPELINE_STATE_RUNNING\n"
     ]
    },
    {
     "name": "stdout",
     "output_type": "stream",
     "text": [
      "AutoMLTextTrainingJob projects/12345678910/locations/us-central1/trainingPipelines/7351014922865606656 current state:\n",
      "PipelineState.PIPELINE_STATE_RUNNING\n"
     ]
    },
    {
     "name": "stderr",
     "output_type": "stream",
     "text": [
      "INFO:google.cloud.aiplatform.training_jobs:AutoMLTextTrainingJob projects/12345678910/locations/us-central1/trainingPipelines/7351014922865606656 current state:\n",
      "PipelineState.PIPELINE_STATE_RUNNING\n"
     ]
    },
    {
     "name": "stdout",
     "output_type": "stream",
     "text": [
      "AutoMLTextTrainingJob projects/12345678910/locations/us-central1/trainingPipelines/7351014922865606656 current state:\n",
      "PipelineState.PIPELINE_STATE_RUNNING\n"
     ]
    },
    {
     "name": "stderr",
     "output_type": "stream",
     "text": [
      "INFO:google.cloud.aiplatform.training_jobs:AutoMLTextTrainingJob projects/12345678910/locations/us-central1/trainingPipelines/7351014922865606656 current state:\n",
      "PipelineState.PIPELINE_STATE_RUNNING\n"
     ]
    },
    {
     "name": "stdout",
     "output_type": "stream",
     "text": [
      "AutoMLTextTrainingJob projects/12345678910/locations/us-central1/trainingPipelines/7351014922865606656 current state:\n",
      "PipelineState.PIPELINE_STATE_RUNNING\n"
     ]
    },
    {
     "name": "stderr",
     "output_type": "stream",
     "text": [
      "INFO:google.cloud.aiplatform.training_jobs:AutoMLTextTrainingJob projects/12345678910/locations/us-central1/trainingPipelines/7351014922865606656 current state:\n",
      "PipelineState.PIPELINE_STATE_RUNNING\n"
     ]
    },
    {
     "name": "stdout",
     "output_type": "stream",
     "text": [
      "AutoMLTextTrainingJob projects/12345678910/locations/us-central1/trainingPipelines/7351014922865606656 current state:\n",
      "PipelineState.PIPELINE_STATE_RUNNING\n"
     ]
    },
    {
     "name": "stderr",
     "output_type": "stream",
     "text": [
      "INFO:google.cloud.aiplatform.training_jobs:AutoMLTextTrainingJob projects/12345678910/locations/us-central1/trainingPipelines/7351014922865606656 current state:\n",
      "PipelineState.PIPELINE_STATE_RUNNING\n"
     ]
    },
    {
     "name": "stdout",
     "output_type": "stream",
     "text": [
      "AutoMLTextTrainingJob projects/12345678910/locations/us-central1/trainingPipelines/7351014922865606656 current state:\n",
      "PipelineState.PIPELINE_STATE_RUNNING\n"
     ]
    },
    {
     "name": "stderr",
     "output_type": "stream",
     "text": [
      "INFO:google.cloud.aiplatform.training_jobs:AutoMLTextTrainingJob projects/12345678910/locations/us-central1/trainingPipelines/7351014922865606656 current state:\n",
      "PipelineState.PIPELINE_STATE_RUNNING\n"
     ]
    },
    {
     "name": "stdout",
     "output_type": "stream",
     "text": [
      "AutoMLTextTrainingJob projects/12345678910/locations/us-central1/trainingPipelines/7351014922865606656 current state:\n",
      "PipelineState.PIPELINE_STATE_RUNNING\n"
     ]
    },
    {
     "name": "stderr",
     "output_type": "stream",
     "text": [
      "INFO:google.cloud.aiplatform.training_jobs:AutoMLTextTrainingJob projects/12345678910/locations/us-central1/trainingPipelines/7351014922865606656 current state:\n",
      "PipelineState.PIPELINE_STATE_RUNNING\n"
     ]
    },
    {
     "name": "stdout",
     "output_type": "stream",
     "text": [
      "AutoMLTextTrainingJob projects/12345678910/locations/us-central1/trainingPipelines/7351014922865606656 current state:\n",
      "PipelineState.PIPELINE_STATE_RUNNING\n"
     ]
    },
    {
     "name": "stderr",
     "output_type": "stream",
     "text": [
      "INFO:google.cloud.aiplatform.training_jobs:AutoMLTextTrainingJob projects/12345678910/locations/us-central1/trainingPipelines/7351014922865606656 current state:\n",
      "PipelineState.PIPELINE_STATE_RUNNING\n"
     ]
    },
    {
     "name": "stdout",
     "output_type": "stream",
     "text": [
      "AutoMLTextTrainingJob projects/12345678910/locations/us-central1/trainingPipelines/7351014922865606656 current state:\n",
      "PipelineState.PIPELINE_STATE_RUNNING\n"
     ]
    },
    {
     "name": "stderr",
     "output_type": "stream",
     "text": [
      "INFO:google.cloud.aiplatform.training_jobs:AutoMLTextTrainingJob projects/12345678910/locations/us-central1/trainingPipelines/7351014922865606656 current state:\n",
      "PipelineState.PIPELINE_STATE_RUNNING\n"
     ]
    },
    {
     "name": "stdout",
     "output_type": "stream",
     "text": [
      "AutoMLTextTrainingJob projects/12345678910/locations/us-central1/trainingPipelines/7351014922865606656 current state:\n",
      "PipelineState.PIPELINE_STATE_RUNNING\n"
     ]
    },
    {
     "name": "stderr",
     "output_type": "stream",
     "text": [
      "INFO:google.cloud.aiplatform.training_jobs:AutoMLTextTrainingJob projects/12345678910/locations/us-central1/trainingPipelines/7351014922865606656 current state:\n",
      "PipelineState.PIPELINE_STATE_RUNNING\n"
     ]
    },
    {
     "name": "stdout",
     "output_type": "stream",
     "text": [
      "AutoMLTextTrainingJob projects/12345678910/locations/us-central1/trainingPipelines/7351014922865606656 current state:\n",
      "PipelineState.PIPELINE_STATE_RUNNING\n"
     ]
    },
    {
     "name": "stderr",
     "output_type": "stream",
     "text": [
      "INFO:google.cloud.aiplatform.training_jobs:AutoMLTextTrainingJob projects/12345678910/locations/us-central1/trainingPipelines/7351014922865606656 current state:\n",
      "PipelineState.PIPELINE_STATE_RUNNING\n"
     ]
    },
    {
     "name": "stdout",
     "output_type": "stream",
     "text": [
      "AutoMLTextTrainingJob projects/12345678910/locations/us-central1/trainingPipelines/7351014922865606656 current state:\n",
      "PipelineState.PIPELINE_STATE_RUNNING\n"
     ]
    },
    {
     "name": "stderr",
     "output_type": "stream",
     "text": [
      "INFO:google.cloud.aiplatform.training_jobs:AutoMLTextTrainingJob projects/12345678910/locations/us-central1/trainingPipelines/7351014922865606656 current state:\n",
      "PipelineState.PIPELINE_STATE_RUNNING\n"
     ]
    },
    {
     "name": "stdout",
     "output_type": "stream",
     "text": [
      "AutoMLTextTrainingJob projects/12345678910/locations/us-central1/trainingPipelines/7351014922865606656 current state:\n",
      "PipelineState.PIPELINE_STATE_RUNNING\n"
     ]
    },
    {
     "name": "stderr",
     "output_type": "stream",
     "text": [
      "INFO:google.cloud.aiplatform.training_jobs:AutoMLTextTrainingJob projects/12345678910/locations/us-central1/trainingPipelines/7351014922865606656 current state:\n",
      "PipelineState.PIPELINE_STATE_RUNNING\n"
     ]
    },
    {
     "name": "stdout",
     "output_type": "stream",
     "text": [
      "AutoMLTextTrainingJob projects/12345678910/locations/us-central1/trainingPipelines/7351014922865606656 current state:\n",
      "PipelineState.PIPELINE_STATE_RUNNING\n"
     ]
    },
    {
     "name": "stderr",
     "output_type": "stream",
     "text": [
      "INFO:google.cloud.aiplatform.training_jobs:AutoMLTextTrainingJob projects/12345678910/locations/us-central1/trainingPipelines/7351014922865606656 current state:\n",
      "PipelineState.PIPELINE_STATE_RUNNING\n"
     ]
    },
    {
     "name": "stdout",
     "output_type": "stream",
     "text": [
      "AutoMLTextTrainingJob projects/12345678910/locations/us-central1/trainingPipelines/7351014922865606656 current state:\n",
      "PipelineState.PIPELINE_STATE_RUNNING\n"
     ]
    },
    {
     "name": "stderr",
     "output_type": "stream",
     "text": [
      "INFO:google.cloud.aiplatform.training_jobs:AutoMLTextTrainingJob projects/12345678910/locations/us-central1/trainingPipelines/7351014922865606656 current state:\n",
      "PipelineState.PIPELINE_STATE_RUNNING\n"
     ]
    },
    {
     "name": "stdout",
     "output_type": "stream",
     "text": [
      "AutoMLTextTrainingJob projects/12345678910/locations/us-central1/trainingPipelines/7351014922865606656 current state:\n",
      "PipelineState.PIPELINE_STATE_RUNNING\n"
     ]
    },
    {
     "name": "stderr",
     "output_type": "stream",
     "text": [
      "INFO:google.cloud.aiplatform.training_jobs:AutoMLTextTrainingJob projects/12345678910/locations/us-central1/trainingPipelines/7351014922865606656 current state:\n",
      "PipelineState.PIPELINE_STATE_RUNNING\n"
     ]
    },
    {
     "name": "stdout",
     "output_type": "stream",
     "text": [
      "AutoMLTextTrainingJob projects/12345678910/locations/us-central1/trainingPipelines/7351014922865606656 current state:\n",
      "PipelineState.PIPELINE_STATE_RUNNING\n"
     ]
    },
    {
     "name": "stderr",
     "output_type": "stream",
     "text": [
      "INFO:google.cloud.aiplatform.training_jobs:AutoMLTextTrainingJob projects/12345678910/locations/us-central1/trainingPipelines/7351014922865606656 current state:\n",
      "PipelineState.PIPELINE_STATE_RUNNING\n"
     ]
    },
    {
     "name": "stdout",
     "output_type": "stream",
     "text": [
      "AutoMLTextTrainingJob projects/12345678910/locations/us-central1/trainingPipelines/7351014922865606656 current state:\n",
      "PipelineState.PIPELINE_STATE_RUNNING\n"
     ]
    },
    {
     "name": "stderr",
     "output_type": "stream",
     "text": [
      "INFO:google.cloud.aiplatform.training_jobs:AutoMLTextTrainingJob projects/12345678910/locations/us-central1/trainingPipelines/7351014922865606656 current state:\n",
      "PipelineState.PIPELINE_STATE_RUNNING\n"
     ]
    },
    {
     "name": "stdout",
     "output_type": "stream",
     "text": [
      "AutoMLTextTrainingJob projects/12345678910/locations/us-central1/trainingPipelines/7351014922865606656 current state:\n",
      "PipelineState.PIPELINE_STATE_RUNNING\n"
     ]
    },
    {
     "name": "stderr",
     "output_type": "stream",
     "text": [
      "INFO:google.cloud.aiplatform.training_jobs:AutoMLTextTrainingJob projects/12345678910/locations/us-central1/trainingPipelines/7351014922865606656 current state:\n",
      "PipelineState.PIPELINE_STATE_RUNNING\n"
     ]
    },
    {
     "name": "stdout",
     "output_type": "stream",
     "text": [
      "AutoMLTextTrainingJob projects/12345678910/locations/us-central1/trainingPipelines/7351014922865606656 current state:\n",
      "PipelineState.PIPELINE_STATE_RUNNING\n"
     ]
    },
    {
     "name": "stderr",
     "output_type": "stream",
     "text": [
      "INFO:google.cloud.aiplatform.training_jobs:AutoMLTextTrainingJob projects/12345678910/locations/us-central1/trainingPipelines/7351014922865606656 current state:\n",
      "PipelineState.PIPELINE_STATE_RUNNING\n"
     ]
    },
    {
     "name": "stdout",
     "output_type": "stream",
     "text": [
      "AutoMLTextTrainingJob projects/12345678910/locations/us-central1/trainingPipelines/7351014922865606656 current state:\n",
      "PipelineState.PIPELINE_STATE_RUNNING\n"
     ]
    },
    {
     "name": "stderr",
     "output_type": "stream",
     "text": [
      "INFO:google.cloud.aiplatform.training_jobs:AutoMLTextTrainingJob projects/12345678910/locations/us-central1/trainingPipelines/7351014922865606656 current state:\n",
      "PipelineState.PIPELINE_STATE_RUNNING\n"
     ]
    },
    {
     "name": "stdout",
     "output_type": "stream",
     "text": [
      "AutoMLTextTrainingJob projects/12345678910/locations/us-central1/trainingPipelines/7351014922865606656 current state:\n",
      "PipelineState.PIPELINE_STATE_RUNNING\n"
     ]
    },
    {
     "name": "stderr",
     "output_type": "stream",
     "text": [
      "INFO:google.cloud.aiplatform.training_jobs:AutoMLTextTrainingJob projects/12345678910/locations/us-central1/trainingPipelines/7351014922865606656 current state:\n",
      "PipelineState.PIPELINE_STATE_RUNNING\n"
     ]
    },
    {
     "name": "stdout",
     "output_type": "stream",
     "text": [
      "AutoMLTextTrainingJob projects/12345678910/locations/us-central1/trainingPipelines/7351014922865606656 current state:\n",
      "PipelineState.PIPELINE_STATE_RUNNING\n"
     ]
    },
    {
     "name": "stderr",
     "output_type": "stream",
     "text": [
      "INFO:google.cloud.aiplatform.training_jobs:AutoMLTextTrainingJob projects/12345678910/locations/us-central1/trainingPipelines/7351014922865606656 current state:\n",
      "PipelineState.PIPELINE_STATE_RUNNING\n"
     ]
    },
    {
     "name": "stdout",
     "output_type": "stream",
     "text": [
      "AutoMLTextTrainingJob projects/12345678910/locations/us-central1/trainingPipelines/7351014922865606656 current state:\n",
      "PipelineState.PIPELINE_STATE_RUNNING\n"
     ]
    },
    {
     "name": "stderr",
     "output_type": "stream",
     "text": [
      "INFO:google.cloud.aiplatform.training_jobs:AutoMLTextTrainingJob projects/12345678910/locations/us-central1/trainingPipelines/7351014922865606656 current state:\n",
      "PipelineState.PIPELINE_STATE_RUNNING\n"
     ]
    },
    {
     "name": "stdout",
     "output_type": "stream",
     "text": [
      "AutoMLTextTrainingJob projects/12345678910/locations/us-central1/trainingPipelines/7351014922865606656 current state:\n",
      "PipelineState.PIPELINE_STATE_RUNNING\n"
     ]
    },
    {
     "name": "stderr",
     "output_type": "stream",
     "text": [
      "INFO:google.cloud.aiplatform.training_jobs:AutoMLTextTrainingJob projects/12345678910/locations/us-central1/trainingPipelines/7351014922865606656 current state:\n",
      "PipelineState.PIPELINE_STATE_RUNNING\n"
     ]
    },
    {
     "name": "stdout",
     "output_type": "stream",
     "text": [
      "AutoMLTextTrainingJob projects/12345678910/locations/us-central1/trainingPipelines/7351014922865606656 current state:\n",
      "PipelineState.PIPELINE_STATE_RUNNING\n"
     ]
    },
    {
     "name": "stderr",
     "output_type": "stream",
     "text": [
      "INFO:google.cloud.aiplatform.training_jobs:AutoMLTextTrainingJob projects/12345678910/locations/us-central1/trainingPipelines/7351014922865606656 current state:\n",
      "PipelineState.PIPELINE_STATE_RUNNING\n"
     ]
    },
    {
     "name": "stdout",
     "output_type": "stream",
     "text": [
      "AutoMLTextTrainingJob projects/12345678910/locations/us-central1/trainingPipelines/7351014922865606656 current state:\n",
      "PipelineState.PIPELINE_STATE_RUNNING\n"
     ]
    },
    {
     "name": "stderr",
     "output_type": "stream",
     "text": [
      "INFO:google.cloud.aiplatform.training_jobs:AutoMLTextTrainingJob projects/12345678910/locations/us-central1/trainingPipelines/7351014922865606656 current state:\n",
      "PipelineState.PIPELINE_STATE_RUNNING\n"
     ]
    },
    {
     "name": "stdout",
     "output_type": "stream",
     "text": [
      "AutoMLTextTrainingJob projects/12345678910/locations/us-central1/trainingPipelines/7351014922865606656 current state:\n",
      "PipelineState.PIPELINE_STATE_RUNNING\n"
     ]
    },
    {
     "name": "stderr",
     "output_type": "stream",
     "text": [
      "INFO:google.cloud.aiplatform.training_jobs:AutoMLTextTrainingJob projects/12345678910/locations/us-central1/trainingPipelines/7351014922865606656 current state:\n",
      "PipelineState.PIPELINE_STATE_RUNNING\n"
     ]
    },
    {
     "name": "stdout",
     "output_type": "stream",
     "text": [
      "AutoMLTextTrainingJob projects/12345678910/locations/us-central1/trainingPipelines/7351014922865606656 current state:\n",
      "PipelineState.PIPELINE_STATE_RUNNING\n"
     ]
    },
    {
     "name": "stderr",
     "output_type": "stream",
     "text": [
      "INFO:google.cloud.aiplatform.training_jobs:AutoMLTextTrainingJob projects/12345678910/locations/us-central1/trainingPipelines/7351014922865606656 current state:\n",
      "PipelineState.PIPELINE_STATE_RUNNING\n"
     ]
    },
    {
     "name": "stdout",
     "output_type": "stream",
     "text": [
      "AutoMLTextTrainingJob projects/12345678910/locations/us-central1/trainingPipelines/7351014922865606656 current state:\n",
      "PipelineState.PIPELINE_STATE_RUNNING\n"
     ]
    },
    {
     "name": "stderr",
     "output_type": "stream",
     "text": [
      "INFO:google.cloud.aiplatform.training_jobs:AutoMLTextTrainingJob projects/12345678910/locations/us-central1/trainingPipelines/7351014922865606656 current state:\n",
      "PipelineState.PIPELINE_STATE_RUNNING\n"
     ]
    },
    {
     "name": "stdout",
     "output_type": "stream",
     "text": [
      "AutoMLTextTrainingJob projects/12345678910/locations/us-central1/trainingPipelines/7351014922865606656 current state:\n",
      "PipelineState.PIPELINE_STATE_RUNNING\n"
     ]
    },
    {
     "name": "stderr",
     "output_type": "stream",
     "text": [
      "INFO:google.cloud.aiplatform.training_jobs:AutoMLTextTrainingJob projects/12345678910/locations/us-central1/trainingPipelines/7351014922865606656 current state:\n",
      "PipelineState.PIPELINE_STATE_RUNNING\n"
     ]
    },
    {
     "name": "stdout",
     "output_type": "stream",
     "text": [
      "AutoMLTextTrainingJob projects/12345678910/locations/us-central1/trainingPipelines/7351014922865606656 current state:\n",
      "PipelineState.PIPELINE_STATE_RUNNING\n"
     ]
    },
    {
     "name": "stderr",
     "output_type": "stream",
     "text": [
      "INFO:google.cloud.aiplatform.training_jobs:AutoMLTextTrainingJob projects/12345678910/locations/us-central1/trainingPipelines/7351014922865606656 current state:\n",
      "PipelineState.PIPELINE_STATE_RUNNING\n"
     ]
    },
    {
     "name": "stdout",
     "output_type": "stream",
     "text": [
      "AutoMLTextTrainingJob projects/12345678910/locations/us-central1/trainingPipelines/7351014922865606656 current state:\n",
      "PipelineState.PIPELINE_STATE_RUNNING\n"
     ]
    },
    {
     "name": "stderr",
     "output_type": "stream",
     "text": [
      "INFO:google.cloud.aiplatform.training_jobs:AutoMLTextTrainingJob projects/12345678910/locations/us-central1/trainingPipelines/7351014922865606656 current state:\n",
      "PipelineState.PIPELINE_STATE_RUNNING\n"
     ]
    },
    {
     "name": "stdout",
     "output_type": "stream",
     "text": [
      "AutoMLTextTrainingJob projects/12345678910/locations/us-central1/trainingPipelines/7351014922865606656 current state:\n",
      "PipelineState.PIPELINE_STATE_RUNNING\n"
     ]
    },
    {
     "name": "stderr",
     "output_type": "stream",
     "text": [
      "INFO:google.cloud.aiplatform.training_jobs:AutoMLTextTrainingJob projects/12345678910/locations/us-central1/trainingPipelines/7351014922865606656 current state:\n",
      "PipelineState.PIPELINE_STATE_RUNNING\n"
     ]
    },
    {
     "name": "stdout",
     "output_type": "stream",
     "text": [
      "AutoMLTextTrainingJob projects/12345678910/locations/us-central1/trainingPipelines/7351014922865606656 current state:\n",
      "PipelineState.PIPELINE_STATE_RUNNING\n"
     ]
    },
    {
     "name": "stderr",
     "output_type": "stream",
     "text": [
      "INFO:google.cloud.aiplatform.training_jobs:AutoMLTextTrainingJob projects/12345678910/locations/us-central1/trainingPipelines/7351014922865606656 current state:\n",
      "PipelineState.PIPELINE_STATE_RUNNING\n"
     ]
    },
    {
     "name": "stdout",
     "output_type": "stream",
     "text": [
      "AutoMLTextTrainingJob projects/12345678910/locations/us-central1/trainingPipelines/7351014922865606656 current state:\n",
      "PipelineState.PIPELINE_STATE_RUNNING\n"
     ]
    },
    {
     "name": "stderr",
     "output_type": "stream",
     "text": [
      "INFO:google.cloud.aiplatform.training_jobs:AutoMLTextTrainingJob projects/12345678910/locations/us-central1/trainingPipelines/7351014922865606656 current state:\n",
      "PipelineState.PIPELINE_STATE_RUNNING\n"
     ]
    },
    {
     "name": "stdout",
     "output_type": "stream",
     "text": [
      "AutoMLTextTrainingJob projects/12345678910/locations/us-central1/trainingPipelines/7351014922865606656 current state:\n",
      "PipelineState.PIPELINE_STATE_RUNNING\n"
     ]
    },
    {
     "name": "stderr",
     "output_type": "stream",
     "text": [
      "INFO:google.cloud.aiplatform.training_jobs:AutoMLTextTrainingJob projects/12345678910/locations/us-central1/trainingPipelines/7351014922865606656 current state:\n",
      "PipelineState.PIPELINE_STATE_RUNNING\n"
     ]
    },
    {
     "name": "stdout",
     "output_type": "stream",
     "text": [
      "AutoMLTextTrainingJob projects/12345678910/locations/us-central1/trainingPipelines/7351014922865606656 current state:\n",
      "PipelineState.PIPELINE_STATE_RUNNING\n"
     ]
    },
    {
     "name": "stderr",
     "output_type": "stream",
     "text": [
      "INFO:google.cloud.aiplatform.training_jobs:AutoMLTextTrainingJob projects/12345678910/locations/us-central1/trainingPipelines/7351014922865606656 current state:\n",
      "PipelineState.PIPELINE_STATE_RUNNING\n"
     ]
    },
    {
     "name": "stdout",
     "output_type": "stream",
     "text": [
      "AutoMLTextTrainingJob projects/12345678910/locations/us-central1/trainingPipelines/7351014922865606656 current state:\n",
      "PipelineState.PIPELINE_STATE_RUNNING\n"
     ]
    },
    {
     "name": "stderr",
     "output_type": "stream",
     "text": [
      "INFO:google.cloud.aiplatform.training_jobs:AutoMLTextTrainingJob projects/12345678910/locations/us-central1/trainingPipelines/7351014922865606656 current state:\n",
      "PipelineState.PIPELINE_STATE_RUNNING\n"
     ]
    },
    {
     "name": "stdout",
     "output_type": "stream",
     "text": [
      "AutoMLTextTrainingJob projects/12345678910/locations/us-central1/trainingPipelines/7351014922865606656 current state:\n",
      "PipelineState.PIPELINE_STATE_RUNNING\n"
     ]
    },
    {
     "name": "stderr",
     "output_type": "stream",
     "text": [
      "INFO:google.cloud.aiplatform.training_jobs:AutoMLTextTrainingJob projects/12345678910/locations/us-central1/trainingPipelines/7351014922865606656 current state:\n",
      "PipelineState.PIPELINE_STATE_RUNNING\n"
     ]
    },
    {
     "name": "stdout",
     "output_type": "stream",
     "text": [
      "AutoMLTextTrainingJob projects/12345678910/locations/us-central1/trainingPipelines/7351014922865606656 current state:\n",
      "PipelineState.PIPELINE_STATE_RUNNING\n"
     ]
    },
    {
     "name": "stderr",
     "output_type": "stream",
     "text": [
      "INFO:google.cloud.aiplatform.training_jobs:AutoMLTextTrainingJob projects/12345678910/locations/us-central1/trainingPipelines/7351014922865606656 current state:\n",
      "PipelineState.PIPELINE_STATE_RUNNING\n"
     ]
    },
    {
     "name": "stdout",
     "output_type": "stream",
     "text": [
      "AutoMLTextTrainingJob projects/12345678910/locations/us-central1/trainingPipelines/7351014922865606656 current state:\n",
      "PipelineState.PIPELINE_STATE_RUNNING\n"
     ]
    },
    {
     "name": "stderr",
     "output_type": "stream",
     "text": [
      "INFO:google.cloud.aiplatform.training_jobs:AutoMLTextTrainingJob projects/12345678910/locations/us-central1/trainingPipelines/7351014922865606656 current state:\n",
      "PipelineState.PIPELINE_STATE_RUNNING\n"
     ]
    },
    {
     "name": "stdout",
     "output_type": "stream",
     "text": [
      "AutoMLTextTrainingJob run completed. Resource name: projects/12345678910/locations/us-central1/trainingPipelines/7351014922865606656\n"
     ]
    },
    {
     "name": "stderr",
     "output_type": "stream",
     "text": [
      "INFO:google.cloud.aiplatform.training_jobs:AutoMLTextTrainingJob run completed. Resource name: projects/12345678910/locations/us-central1/trainingPipelines/7351014922865606656\n"
     ]
    },
    {
     "name": "stdout",
     "output_type": "stream",
     "text": [
      "Model available at projects/12345678910/locations/us-central1/models/684373420523126784\n"
     ]
    },
    {
     "name": "stderr",
     "output_type": "stream",
     "text": [
      "INFO:google.cloud.aiplatform.training_jobs:Model available at projects/12345678910/locations/us-central1/models/684373420523126784\n"
     ]
    }
   ],
   "source": [
    "# Create a Managed Dataset\n",
    "text_dataset = aiplatform.TextDataset.create(\n",
    "    display_name=f\"{VERTEX_MODEL_NAME_PREFIX}_automl\",\n",
    "    gcs_source=f\"gs://{GCP_BUCKET}/automl-{VERTEX_MODEL_ROUND}/headerless-{DATA_FILE}\",\n",
    "    import_schema_uri=aiplatform.schema.dataset.ioformat.text.single_label_classification\n",
    ")\n",
    "\n",
    "# Train an AutoML model off the Managed Dataset\n",
    "job = aiplatform.AutoMLTextTrainingJob(\n",
    "    display_name=f\"{VERTEX_MODEL_NAME_PREFIX}_automl\",\n",
    "    prediction_type=\"classification\",\n",
    "    multi_label=False,\n",
    ")\n",
    "model = job.run(\n",
    "    dataset=text_dataset,\n",
    "    model_display_name=f\"{VERTEX_MODEL_NAME_PREFIX}_automl\",\n",
    "    training_fraction_split=0.68,\n",
    "    validation_fraction_split=0.16,\n",
    "    test_fraction_split=0.16,\n",
    ")\n",
    "\n",
    "# Add the model to the experiment run\n",
    "with aiplatform.start_execution(\n",
    "    schema_title=\"system.ContainerExecution\", \n",
    "    display_name='training'\n",
    ") as execution:\n",
    "    execution.assign_output_artifacts([model])"
   ]
  },
  {
   "cell_type": "code",
   "execution_count": 46,
   "metadata": {},
   "outputs": [],
   "source": [
    "# Add experiment run parameters\n",
    "metaparams = {}\n",
    "metaparams[\"epochs\"] = \"N/A\"\n",
    "metaparams[\"learning rate\"] = \"N/A\"\n",
    "metaparams[\"base model\"] = \"N/A\"\n",
    "aiplatform.log_params(metaparams)"
   ]
  },
  {
   "cell_type": "code",
   "execution_count": 47,
   "metadata": {},
   "outputs": [],
   "source": [
    "# Add experiment run metrics\n",
    "model_evaluations = model.list_model_evaluations()\n",
    "for model_evaluation in model_evaluations:\n",
    "    log_loss = model_evaluation.metrics[\"logLoss\"]\n",
    "metrics = {}\n",
    "metrics[\"cross-entropy loss\"] = log_loss\n",
    "aiplatform.log_metrics(metrics)"
   ]
  },
  {
   "cell_type": "code",
   "execution_count": 48,
   "metadata": {},
   "outputs": [],
   "source": [
    "aiplatform.end_run()"
   ]
  },
  {
   "cell_type": "markdown",
   "metadata": {},
   "source": [
    "## Experiment analysis (across custom model, BQML, and AutoML)"
   ]
  },
  {
   "cell_type": "code",
   "execution_count": 49,
   "metadata": {},
   "outputs": [
    {
     "data": {
      "text/html": [
       "<div>\n",
       "<style scoped>\n",
       "    .dataframe tbody tr th:only-of-type {\n",
       "        vertical-align: middle;\n",
       "    }\n",
       "\n",
       "    .dataframe tbody tr th {\n",
       "        vertical-align: top;\n",
       "    }\n",
       "\n",
       "    .dataframe thead th {\n",
       "        text-align: right;\n",
       "    }\n",
       "</style>\n",
       "<table border=\"1\" class=\"dataframe\">\n",
       "  <thead>\n",
       "    <tr style=\"text-align: right;\">\n",
       "      <th></th>\n",
       "      <th>experiment_name</th>\n",
       "      <th>run_name</th>\n",
       "      <th>run_type</th>\n",
       "      <th>state</th>\n",
       "      <th>param.epochs</th>\n",
       "      <th>param.base model</th>\n",
       "      <th>param.learning rate</th>\n",
       "      <th>metric.cross-entropy loss</th>\n",
       "      <th>metric.categorical accuracy</th>\n",
       "    </tr>\n",
       "  </thead>\n",
       "  <tbody>\n",
       "    <tr>\n",
       "      <th>0</th>\n",
       "      <td>isidro-intents-compare-custom-automl-bqml</td>\n",
       "      <td>run-automl-r1</td>\n",
       "      <td>system.ExperimentRun</td>\n",
       "      <td>COMPLETE</td>\n",
       "      <td>N/A</td>\n",
       "      <td>N/A</td>\n",
       "      <td>N/A</td>\n",
       "      <td>0.035308</td>\n",
       "      <td>NaN</td>\n",
       "    </tr>\n",
       "    <tr>\n",
       "      <th>1</th>\n",
       "      <td>isidro-intents-compare-custom-automl-bqml</td>\n",
       "      <td>run-bqml-r1</td>\n",
       "      <td>system.ExperimentRun</td>\n",
       "      <td>COMPLETE</td>\n",
       "      <td>N/A</td>\n",
       "      <td>N/A</td>\n",
       "      <td>N/A</td>\n",
       "      <td>0.036435</td>\n",
       "      <td>0.981132</td>\n",
       "    </tr>\n",
       "    <tr>\n",
       "      <th>2</th>\n",
       "      <td>isidro-intents-compare-custom-automl-bqml</td>\n",
       "      <td>run-custom-r1</td>\n",
       "      <td>system.ExperimentRun</td>\n",
       "      <td>COMPLETE</td>\n",
       "      <td>8.0</td>\n",
       "      <td>small_bert/bert_en_uncased_L-8_H-512_A-8</td>\n",
       "      <td>0.00001</td>\n",
       "      <td>0.461158</td>\n",
       "      <td>0.890244</td>\n",
       "    </tr>\n",
       "  </tbody>\n",
       "</table>\n",
       "</div>"
      ],
      "text/plain": [
       "                             experiment_name       run_name  \\\n",
       "0  isidro-intents-compare-custom-automl-bqml  run-automl-r1   \n",
       "1  isidro-intents-compare-custom-automl-bqml    run-bqml-r1   \n",
       "2  isidro-intents-compare-custom-automl-bqml  run-custom-r1   \n",
       "\n",
       "               run_type     state param.epochs  \\\n",
       "0  system.ExperimentRun  COMPLETE          N/A   \n",
       "1  system.ExperimentRun  COMPLETE          N/A   \n",
       "2  system.ExperimentRun  COMPLETE          8.0   \n",
       "\n",
       "                           param.base model param.learning rate  \\\n",
       "0                                       N/A                 N/A   \n",
       "1                                       N/A                 N/A   \n",
       "2  small_bert/bert_en_uncased_L-8_H-512_A-8             0.00001   \n",
       "\n",
       "   metric.cross-entropy loss  metric.categorical accuracy  \n",
       "0                   0.035308                          NaN  \n",
       "1                   0.036435                     0.981132  \n",
       "2                   0.461158                     0.890244  "
      ]
     },
     "execution_count": 49,
     "metadata": {},
     "output_type": "execute_result"
    }
   ],
   "source": [
    "experiment_df = aiplatform.get_experiment_df()\n",
    "experiment_df = experiment_df[experiment_df.experiment_name == EXPERIMENT_NAME]\n",
    "experiment_df"
   ]
  },
  {
   "cell_type": "code",
   "execution_count": 50,
   "metadata": {},
   "outputs": [
    {
     "name": "stdout",
     "output_type": "stream",
     "text": [
      "[<google.cloud.aiplatform.metadata.artifact.Artifact object at 0x7fe2ac031790> \n",
      "resource name: projects/12345678910/locations/us-central1/metadataStores/default/artifacts/09422771-6759-45e5-aeb2-c7155b2b0144\n",
      "uri: https://us-central1-aiplatform.googleapis.com/v1/projects/12345678910/locations/us-central1/models/1240990186968449024@1\n",
      "schema_title:google.VertexModel, <google.cloud.aiplatform.metadata.artifact.Artifact object at 0x7fe2a4690350> \n",
      "resource name: projects/12345678910/locations/us-central1/metadataStores/default/artifacts/7b92f9ec-ef9b-4e17-ad28-b1b4a026f200\n",
      "uri: gs://isidro_intent_classification/custom-r1/quality.csv\n",
      "schema_title:system.Dataset, <google.cloud.aiplatform.metadata.artifact.Artifact object at 0x7fe2a4690ed0> \n",
      "resource name: projects/12345678910/locations/us-central1/metadataStores/default/artifacts/74feb581-a4a4-4fa5-8575-80cd25142268\n",
      "uri: gs://isidro_intent_classification/custom-r1/quality.csv\n",
      "schema_title:system.Dataset, <google.cloud.aiplatform.metadata.artifact.Artifact object at 0x7fe2a47de510> \n",
      "resource name: projects/12345678910/locations/us-central1/metadataStores/default/artifacts/e922980d-ea02-4fbc-a5b6-d529918211b6\n",
      "uri: \n",
      "schema_title:google.ClassificationMetrics]\n",
      "{'categorical accuracy': 0.8902438879013062, 'cross-entropy loss': 0.4611583352088928}\n",
      "{'learning rate': 1e-05, 'epochs': 8.0, 'base model': 'small_bert/bert_en_uncased_L-8_H-512_A-8'}\n",
      "Empty DataFrame\n",
      "Columns: []\n",
      "Index: []\n",
      "[{'id': 'e922980d-ea02-4fbc-a5b6-d529918211b6', 'display_name': 'intents confusion matrix', 'labels': ['destroy cron', 'create cron', 'self scale', 'report issue', 'create windows', 'self destruct', 'create workstation', 'documentation'], 'matrix': [[5.0, 2.0, 0.0, 0.0, 0.0, 0.0, 0.0, 0.0], [0.0, 5.0, 0.0, 0.0, 0.0, 0.0, 0.0, 0.0], [0.0, 0.0, 17.0, 0.0, 0.0, 1.0, 0.0, 0.0], [0.0, 0.0, 1.0, 12.0, 0.0, 1.0, 0.0, 1.0], [0.0, 0.0, 0.0, 0.0, 5.0, 0.0, 0.0, 0.0], [0.0, 0.0, 0.0, 0.0, 0.0, 10.0, 0.0, 1.0], [0.0, 0.0, 0.0, 0.0, 0.0, 0.0, 7.0, 0.0], [0.0, 0.0, 0.0, 0.0, 0.0, 0.0, 0.0, 14.0]]}]\n"
     ]
    }
   ],
   "source": [
    "experiment_run = aiplatform.ExperimentRun(\n",
    "        run_name=f\"run-custom-{VERTEX_MODEL_ROUND}\",\n",
    "        experiment=EXPERIMENT_NAME,\n",
    ")\n",
    "\n",
    "print(experiment_run.get_artifacts())\n",
    "print(experiment_run.get_metrics())\n",
    "print(experiment_run.get_params())\n",
    "print(experiment_run.get_time_series_data_frame())\n",
    "print(experiment_run.get_classification_metrics())"
   ]
  }
 ],
 "metadata": {
  "accelerator": "GPU",
  "colab": {
   "collapsed_sections": [],
   "name": "classify_text_with_bert.ipynb",
   "toc_visible": true
  },
  "environment": {
   "kernel": "python3",
   "name": "tf2-gpu.2-8.m102",
   "type": "gcloud",
   "uri": "gcr.io/deeplearning-platform-release/tf2-gpu.2-8:m102"
  },
  "kernelspec": {
   "display_name": "Python 3 (ipykernel)",
   "language": "python",
   "name": "python3"
  },
  "language_info": {
   "codemirror_mode": {
    "name": "ipython",
    "version": 3
   },
   "file_extension": ".py",
   "mimetype": "text/x-python",
   "name": "python",
   "nbconvert_exporter": "python",
   "pygments_lexer": "ipython3",
   "version": "3.7.12"
  },
  "toc": {
   "base_numbering": 1,
   "nav_menu": {},
   "number_sections": true,
   "sideBar": true,
   "skip_h1_title": false,
   "title_cell": "Table of Contents",
   "title_sidebar": "Contents",
   "toc_cell": false,
   "toc_position": {},
   "toc_section_display": true,
   "toc_window_display": false
  }
 },
 "nbformat": 4,
 "nbformat_minor": 4
}
